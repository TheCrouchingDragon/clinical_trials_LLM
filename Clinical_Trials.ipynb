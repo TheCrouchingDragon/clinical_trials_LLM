{
  "nbformat": 4,
  "nbformat_minor": 0,
  "metadata": {
    "colab": {
      "provenance": []
    },
    "kernelspec": {
      "name": "python3",
      "display_name": "Python 3"
    },
    "language_info": {
      "name": "python"
    }
  },
  "cells": [
    {
      "cell_type": "markdown",
      "source": [
        "#Clinical Trials LLM"
      ],
      "metadata": {
        "id": "knphiOWgjdVU"
      }
    },
    {
      "cell_type": "markdown",
      "source": [
        "**Install necessary libraries**"
      ],
      "metadata": {
        "id": "QLUKlNKKyppp"
      }
    },
    {
      "cell_type": "code",
      "source": [
        "!pip install openai --upgrade\n",
        "!pip install langchain_openai --upgrade"
      ],
      "metadata": {
        "colab": {
          "base_uri": "https://localhost:8080/"
        },
        "collapsed": true,
        "id": "QSoNUxmpyokA",
        "outputId": "a11b8cb8-33ab-4986-f09f-8855f7686b5f"
      },
      "execution_count": 1,
      "outputs": [
        {
          "output_type": "stream",
          "name": "stdout",
          "text": [
            "Collecting openai\n",
            "  Downloading openai-1.37.1-py3-none-any.whl.metadata (22 kB)\n",
            "Requirement already satisfied: anyio<5,>=3.5.0 in /usr/local/lib/python3.10/dist-packages (from openai) (3.7.1)\n",
            "Requirement already satisfied: distro<2,>=1.7.0 in /usr/lib/python3/dist-packages (from openai) (1.7.0)\n",
            "Collecting httpx<1,>=0.23.0 (from openai)\n",
            "  Downloading httpx-0.27.0-py3-none-any.whl.metadata (7.2 kB)\n",
            "Requirement already satisfied: pydantic<3,>=1.9.0 in /usr/local/lib/python3.10/dist-packages (from openai) (2.8.2)\n",
            "Requirement already satisfied: sniffio in /usr/local/lib/python3.10/dist-packages (from openai) (1.3.1)\n",
            "Requirement already satisfied: tqdm>4 in /usr/local/lib/python3.10/dist-packages (from openai) (4.66.4)\n",
            "Requirement already satisfied: typing-extensions<5,>=4.7 in /usr/local/lib/python3.10/dist-packages (from openai) (4.12.2)\n",
            "Requirement already satisfied: idna>=2.8 in /usr/local/lib/python3.10/dist-packages (from anyio<5,>=3.5.0->openai) (3.7)\n",
            "Requirement already satisfied: exceptiongroup in /usr/local/lib/python3.10/dist-packages (from anyio<5,>=3.5.0->openai) (1.2.2)\n",
            "Requirement already satisfied: certifi in /usr/local/lib/python3.10/dist-packages (from httpx<1,>=0.23.0->openai) (2024.7.4)\n",
            "Collecting httpcore==1.* (from httpx<1,>=0.23.0->openai)\n",
            "  Downloading httpcore-1.0.5-py3-none-any.whl.metadata (20 kB)\n",
            "Collecting h11<0.15,>=0.13 (from httpcore==1.*->httpx<1,>=0.23.0->openai)\n",
            "  Downloading h11-0.14.0-py3-none-any.whl.metadata (8.2 kB)\n",
            "Requirement already satisfied: annotated-types>=0.4.0 in /usr/local/lib/python3.10/dist-packages (from pydantic<3,>=1.9.0->openai) (0.7.0)\n",
            "Requirement already satisfied: pydantic-core==2.20.1 in /usr/local/lib/python3.10/dist-packages (from pydantic<3,>=1.9.0->openai) (2.20.1)\n",
            "Downloading openai-1.37.1-py3-none-any.whl (337 kB)\n",
            "\u001b[2K   \u001b[90m━━━━━━━━━━━━━━━━━━━━━━━━━━━━━━━━━━━━━━━━\u001b[0m \u001b[32m337.0/337.0 kB\u001b[0m \u001b[31m5.1 MB/s\u001b[0m eta \u001b[36m0:00:00\u001b[0m\n",
            "\u001b[?25hDownloading httpx-0.27.0-py3-none-any.whl (75 kB)\n",
            "\u001b[2K   \u001b[90m━━━━━━━━━━━━━━━━━━━━━━━━━━━━━━━━━━━━━━━━\u001b[0m \u001b[32m75.6/75.6 kB\u001b[0m \u001b[31m2.7 MB/s\u001b[0m eta \u001b[36m0:00:00\u001b[0m\n",
            "\u001b[?25hDownloading httpcore-1.0.5-py3-none-any.whl (77 kB)\n",
            "\u001b[2K   \u001b[90m━━━━━━━━━━━━━━━━━━━━━━━━━━━━━━━━━━━━━━━━\u001b[0m \u001b[32m77.9/77.9 kB\u001b[0m \u001b[31m4.7 MB/s\u001b[0m eta \u001b[36m0:00:00\u001b[0m\n",
            "\u001b[?25hDownloading h11-0.14.0-py3-none-any.whl (58 kB)\n",
            "\u001b[2K   \u001b[90m━━━━━━━━━━━━━━━━━━━━━━━━━━━━━━━━━━━━━━━━\u001b[0m \u001b[32m58.3/58.3 kB\u001b[0m \u001b[31m2.3 MB/s\u001b[0m eta \u001b[36m0:00:00\u001b[0m\n",
            "\u001b[?25hInstalling collected packages: h11, httpcore, httpx, openai\n",
            "Successfully installed h11-0.14.0 httpcore-1.0.5 httpx-0.27.0 openai-1.37.1\n",
            "Collecting langchain_openai\n",
            "  Downloading langchain_openai-0.1.19-py3-none-any.whl.metadata (2.6 kB)\n",
            "Collecting langchain-core<0.3.0,>=0.2.24 (from langchain_openai)\n",
            "  Downloading langchain_core-0.2.24-py3-none-any.whl.metadata (6.2 kB)\n",
            "Requirement already satisfied: openai<2.0.0,>=1.32.0 in /usr/local/lib/python3.10/dist-packages (from langchain_openai) (1.37.1)\n",
            "Collecting tiktoken<1,>=0.7 (from langchain_openai)\n",
            "  Downloading tiktoken-0.7.0-cp310-cp310-manylinux_2_17_x86_64.manylinux2014_x86_64.whl.metadata (6.6 kB)\n",
            "Requirement already satisfied: PyYAML>=5.3 in /usr/local/lib/python3.10/dist-packages (from langchain-core<0.3.0,>=0.2.24->langchain_openai) (6.0.1)\n",
            "Collecting jsonpatch<2.0,>=1.33 (from langchain-core<0.3.0,>=0.2.24->langchain_openai)\n",
            "  Downloading jsonpatch-1.33-py2.py3-none-any.whl.metadata (3.0 kB)\n",
            "Collecting langsmith<0.2.0,>=0.1.75 (from langchain-core<0.3.0,>=0.2.24->langchain_openai)\n",
            "  Downloading langsmith-0.1.93-py3-none-any.whl.metadata (13 kB)\n",
            "Requirement already satisfied: packaging<25,>=23.2 in /usr/local/lib/python3.10/dist-packages (from langchain-core<0.3.0,>=0.2.24->langchain_openai) (24.1)\n",
            "Requirement already satisfied: pydantic<3,>=1 in /usr/local/lib/python3.10/dist-packages (from langchain-core<0.3.0,>=0.2.24->langchain_openai) (2.8.2)\n",
            "Requirement already satisfied: tenacity!=8.4.0,<9.0.0,>=8.1.0 in /usr/local/lib/python3.10/dist-packages (from langchain-core<0.3.0,>=0.2.24->langchain_openai) (8.5.0)\n",
            "Requirement already satisfied: anyio<5,>=3.5.0 in /usr/local/lib/python3.10/dist-packages (from openai<2.0.0,>=1.32.0->langchain_openai) (3.7.1)\n",
            "Requirement already satisfied: distro<2,>=1.7.0 in /usr/lib/python3/dist-packages (from openai<2.0.0,>=1.32.0->langchain_openai) (1.7.0)\n",
            "Requirement already satisfied: httpx<1,>=0.23.0 in /usr/local/lib/python3.10/dist-packages (from openai<2.0.0,>=1.32.0->langchain_openai) (0.27.0)\n",
            "Requirement already satisfied: sniffio in /usr/local/lib/python3.10/dist-packages (from openai<2.0.0,>=1.32.0->langchain_openai) (1.3.1)\n",
            "Requirement already satisfied: tqdm>4 in /usr/local/lib/python3.10/dist-packages (from openai<2.0.0,>=1.32.0->langchain_openai) (4.66.4)\n",
            "Requirement already satisfied: typing-extensions<5,>=4.7 in /usr/local/lib/python3.10/dist-packages (from openai<2.0.0,>=1.32.0->langchain_openai) (4.12.2)\n",
            "Requirement already satisfied: regex>=2022.1.18 in /usr/local/lib/python3.10/dist-packages (from tiktoken<1,>=0.7->langchain_openai) (2024.5.15)\n",
            "Requirement already satisfied: requests>=2.26.0 in /usr/local/lib/python3.10/dist-packages (from tiktoken<1,>=0.7->langchain_openai) (2.31.0)\n",
            "Requirement already satisfied: idna>=2.8 in /usr/local/lib/python3.10/dist-packages (from anyio<5,>=3.5.0->openai<2.0.0,>=1.32.0->langchain_openai) (3.7)\n",
            "Requirement already satisfied: exceptiongroup in /usr/local/lib/python3.10/dist-packages (from anyio<5,>=3.5.0->openai<2.0.0,>=1.32.0->langchain_openai) (1.2.2)\n",
            "Requirement already satisfied: certifi in /usr/local/lib/python3.10/dist-packages (from httpx<1,>=0.23.0->openai<2.0.0,>=1.32.0->langchain_openai) (2024.7.4)\n",
            "Requirement already satisfied: httpcore==1.* in /usr/local/lib/python3.10/dist-packages (from httpx<1,>=0.23.0->openai<2.0.0,>=1.32.0->langchain_openai) (1.0.5)\n",
            "Requirement already satisfied: h11<0.15,>=0.13 in /usr/local/lib/python3.10/dist-packages (from httpcore==1.*->httpx<1,>=0.23.0->openai<2.0.0,>=1.32.0->langchain_openai) (0.14.0)\n",
            "Collecting jsonpointer>=1.9 (from jsonpatch<2.0,>=1.33->langchain-core<0.3.0,>=0.2.24->langchain_openai)\n",
            "  Downloading jsonpointer-3.0.0-py2.py3-none-any.whl.metadata (2.3 kB)\n",
            "Collecting orjson<4.0.0,>=3.9.14 (from langsmith<0.2.0,>=0.1.75->langchain-core<0.3.0,>=0.2.24->langchain_openai)\n",
            "  Downloading orjson-3.10.6-cp310-cp310-manylinux_2_17_x86_64.manylinux2014_x86_64.whl.metadata (50 kB)\n",
            "\u001b[2K     \u001b[90m━━━━━━━━━━━━━━━━━━━━━━━━━━━━━━━━━━━━━━━━\u001b[0m \u001b[32m50.4/50.4 kB\u001b[0m \u001b[31m1.2 MB/s\u001b[0m eta \u001b[36m0:00:00\u001b[0m\n",
            "\u001b[?25hRequirement already satisfied: annotated-types>=0.4.0 in /usr/local/lib/python3.10/dist-packages (from pydantic<3,>=1->langchain-core<0.3.0,>=0.2.24->langchain_openai) (0.7.0)\n",
            "Requirement already satisfied: pydantic-core==2.20.1 in /usr/local/lib/python3.10/dist-packages (from pydantic<3,>=1->langchain-core<0.3.0,>=0.2.24->langchain_openai) (2.20.1)\n",
            "Requirement already satisfied: charset-normalizer<4,>=2 in /usr/local/lib/python3.10/dist-packages (from requests>=2.26.0->tiktoken<1,>=0.7->langchain_openai) (3.3.2)\n",
            "Requirement already satisfied: urllib3<3,>=1.21.1 in /usr/local/lib/python3.10/dist-packages (from requests>=2.26.0->tiktoken<1,>=0.7->langchain_openai) (2.0.7)\n",
            "Downloading langchain_openai-0.1.19-py3-none-any.whl (47 kB)\n",
            "\u001b[2K   \u001b[90m━━━━━━━━━━━━━━━━━━━━━━━━━━━━━━━━━━━━━━━━\u001b[0m \u001b[32m47.1/47.1 kB\u001b[0m \u001b[31m2.2 MB/s\u001b[0m eta \u001b[36m0:00:00\u001b[0m\n",
            "\u001b[?25hDownloading langchain_core-0.2.24-py3-none-any.whl (377 kB)\n",
            "\u001b[2K   \u001b[90m━━━━━━━━━━━━━━━━━━━━━━━━━━━━━━━━━━━━━━━━\u001b[0m \u001b[32m377.3/377.3 kB\u001b[0m \u001b[31m3.9 MB/s\u001b[0m eta \u001b[36m0:00:00\u001b[0m\n",
            "\u001b[?25hDownloading tiktoken-0.7.0-cp310-cp310-manylinux_2_17_x86_64.manylinux2014_x86_64.whl (1.1 MB)\n",
            "\u001b[2K   \u001b[90m━━━━━━━━━━━━━━━━━━━━━━━━━━━━━━━━━━━━━━━━\u001b[0m \u001b[32m1.1/1.1 MB\u001b[0m \u001b[31m4.7 MB/s\u001b[0m eta \u001b[36m0:00:00\u001b[0m\n",
            "\u001b[?25hDownloading jsonpatch-1.33-py2.py3-none-any.whl (12 kB)\n",
            "Downloading langsmith-0.1.93-py3-none-any.whl (139 kB)\n",
            "\u001b[2K   \u001b[90m━━━━━━━━━━━━━━━━━━━━━━━━━━━━━━━━━━━━━━━━\u001b[0m \u001b[32m139.8/139.8 kB\u001b[0m \u001b[31m4.2 MB/s\u001b[0m eta \u001b[36m0:00:00\u001b[0m\n",
            "\u001b[?25hDownloading jsonpointer-3.0.0-py2.py3-none-any.whl (7.6 kB)\n",
            "Downloading orjson-3.10.6-cp310-cp310-manylinux_2_17_x86_64.manylinux2014_x86_64.whl (141 kB)\n",
            "\u001b[2K   \u001b[90m━━━━━━━━━━━━━━━━━━━━━━━━━━━━━━━━━━━━━━━━\u001b[0m \u001b[32m141.1/141.1 kB\u001b[0m \u001b[31m3.5 MB/s\u001b[0m eta \u001b[36m0:00:00\u001b[0m\n",
            "\u001b[?25hInstalling collected packages: orjson, jsonpointer, tiktoken, jsonpatch, langsmith, langchain-core, langchain_openai\n",
            "Successfully installed jsonpatch-1.33 jsonpointer-3.0.0 langchain-core-0.2.24 langchain_openai-0.1.19 langsmith-0.1.93 orjson-3.10.6 tiktoken-0.7.0\n"
          ]
        }
      ]
    },
    {
      "cell_type": "markdown",
      "source": [
        "### Import and Pre-Process Clinical Trial Data from clinicaltrials.gov"
      ],
      "metadata": {
        "id": "31hWI9orzDCm"
      }
    },
    {
      "cell_type": "code",
      "source": [
        "import requests\n",
        "import pandas as pd\n",
        "\n",
        "# Initial URL for the first API call\n",
        "base_url = \"https://clinicaltrials.gov/api/v2/studies\"\n",
        "params = {\n",
        "    \"query.titles\": \"Breast Cancer\",\n",
        "    \"pageSize\": 100\n",
        "}\n",
        "\n",
        "# Initialize an empty list to store the data\n",
        "data_list = []\n",
        "\n",
        "# Loop until there is no nextPageToken\n",
        "while True:\n",
        "    # Print the current URL (for debugging purposes)\n",
        "    print(\"Fetching data from:\", base_url + '?' + '&'.join([f\"{k}={v}\" for k, v in params.items()]))\n",
        "\n",
        "    # Send a GET request to the API\n",
        "    response = requests.get(base_url, params=params)\n",
        "\n",
        "    # Check if the request was successful\n",
        "    if response.status_code == 200:\n",
        "        data = response.json()  # Parse JSON response\n",
        "        studies = data.get('studies', [])  # Extract the list of studies\n",
        "\n",
        "        # Loop through each study and extract specific information\n",
        "        for study in studies:\n",
        "            # Safely access nested keys\n",
        "            nctId = study['protocolSection']['identificationModule'].get('nctId', 'Unknown')\n",
        "            overallStatus = study['protocolSection']['statusModule'].get('overallStatus', 'Unknown')\n",
        "            startDate = study['protocolSection']['statusModule'].get('startDateStruct', {}).get('date', 'Unknown Date')\n",
        "            conditions = ', '.join(study['protocolSection']['conditionsModule'].get('conditions', ['No conditions listed']))\n",
        "            acronym = study['protocolSection']['identificationModule'].get('acronym', 'Unknown')\n",
        "\n",
        "            # Extract interventions safely\n",
        "            interventions_list = study['protocolSection'].get('armsInterventionsModule', {}).get('interventions', [])\n",
        "            interventions = ', '.join([intervention.get('name', 'No intervention name listed') for intervention in interventions_list]) if interventions_list else \"No interventions listed\"\n",
        "\n",
        "            # Extract locations safely\n",
        "            locations_list = study['protocolSection'].get('contactsLocationsModule', {}).get('locations', [])\n",
        "            locations = ', '.join([f\"{location.get('city', 'No City')} - {location.get('country', 'No Country')}\" for location in locations_list]) if locations_list else \"No locations listed\"\n",
        "\n",
        "            # Extract dates and phases\n",
        "            primaryCompletionDate = study['protocolSection']['statusModule'].get('primaryCompletionDateStruct', {}).get('date', 'Unknown Date')\n",
        "            studyFirstPostDate = study['protocolSection']['statusModule'].get('studyFirstPostDateStruct', {}).get('date', 'Unknown Date')\n",
        "            lastUpdatePostDate = study['protocolSection']['statusModule'].get('lastUpdatePostDateStruct', {}).get('date', 'Unknown Date')\n",
        "            studyType = study['protocolSection']['designModule'].get('studyType', 'Unknown')\n",
        "            phases = ', '.join(study['protocolSection']['designModule'].get('phases', ['Not Available']))\n",
        "\n",
        "            # Extract eligibility criteria\n",
        "            #eligibilities = ', '.join(study['protocolSection']['eligibilityModule'].get('eligibilityCriteria', ['No criteria listed']))\n",
        "\n",
        "            eligibility = study['protocolSection']['eligibilityModule'].get('eligibilityCriteria', 'Unknown')\n",
        "\n",
        "            #eligibilities_list = study['protocolSection'].get('eligibilityModule', {}).get('eligibilityCriteria', [])\n",
        "            #eligibilities = ', '.join([eligiblity.get('name', 'No criteria listed') for eligiblity in eligibilities_list]) if eligibilities_list else \"No eligibility listed\"\n",
        "\n",
        "            # Append the data to the list as a dictionary\n",
        "            data_list.append({\n",
        "                \"NCT ID\": nctId,\n",
        "                \"Acronym\": acronym,\n",
        "                \"Overall Status\": overallStatus,\n",
        "                \"Start Date\": startDate,\n",
        "                \"Conditions\": conditions,\n",
        "                \"Interventions\": interventions,\n",
        "                \"Locations\": locations,\n",
        "                \"Primary Completion Date\": primaryCompletionDate,\n",
        "                \"Study First Post Date\": studyFirstPostDate,\n",
        "                \"Last Update Post Date\": lastUpdatePostDate,\n",
        "                \"Study Type\": studyType,\n",
        "                \"Phases\": phases,\n",
        "                \"Eligibility\": eligibility\n",
        "            })\n",
        "\n",
        "        # Check for nextPageToken and update the params or break the loop\n",
        "        nextPageToken = data.get('nextPageToken')\n",
        "        if nextPageToken:\n",
        "            params['pageToken'] = nextPageToken  # Set the pageToken for the next request\n",
        "        else:\n",
        "            break  # Exit the loop if no nextPageToken is present\n",
        "    else:\n",
        "        print(\"Failed to fetch data. Status code:\", response.status_code)\n",
        "        break\n",
        "\n",
        "# Create a DataFrame from the list of dictionaries\n",
        "clinical_trial_data = pd.DataFrame(data_list)\n",
        "\n",
        "# Print the DataFrame\n",
        "#print(clinical_trial_df)\n",
        "\n",
        "# Optionally, save the DataFrame to a CSV file\n",
        "clinical_trial_data .to_csv(\"clinical_trials_data.csv\", index=False)"
      ],
      "metadata": {
        "colab": {
          "base_uri": "https://localhost:8080/"
        },
        "collapsed": true,
        "id": "Hc9Us193zBhU",
        "outputId": "67015b9e-8219-456e-a273-7d4e5188bba2"
      },
      "execution_count": 2,
      "outputs": [
        {
          "output_type": "stream",
          "name": "stdout",
          "text": [
            "Fetching data from: https://clinicaltrials.gov/api/v2/studies?query.titles=Breast Cancer&pageSize=100\n",
            "Fetching data from: https://clinicaltrials.gov/api/v2/studies?query.titles=Breast Cancer&pageSize=100&pageToken=NF0g5JCFkvgp\n",
            "Fetching data from: https://clinicaltrials.gov/api/v2/studies?query.titles=Breast Cancer&pageSize=100&pageToken=NF0g5JSEkPAh\n",
            "Fetching data from: https://clinicaltrials.gov/api/v2/studies?query.titles=Breast Cancer&pageSize=100&pageToken=NF0g5JKHlfArxw\n",
            "Fetching data from: https://clinicaltrials.gov/api/v2/studies?query.titles=Breast Cancer&pageSize=100&pageToken=NF0g5JKDkfEoxQ\n",
            "Fetching data from: https://clinicaltrials.gov/api/v2/studies?query.titles=Breast Cancer&pageSize=100&pageToken=NF0g5JKBmvYvyQ\n",
            "Fetching data from: https://clinicaltrials.gov/api/v2/studies?query.titles=Breast Cancer&pageSize=100&pageToken=NF0g5JGHk_Uoxg\n",
            "Fetching data from: https://clinicaltrials.gov/api/v2/studies?query.titles=Breast Cancer&pageSize=100&pageToken=NF0g5JGFm_gtwg\n",
            "Fetching data from: https://clinicaltrials.gov/api/v2/studies?query.titles=Breast Cancer&pageSize=100&pageToken=NF0g5JGBk_cvxg\n",
            "Fetching data from: https://clinicaltrials.gov/api/v2/studies?query.titles=Breast Cancer&pageSize=100&pageToken=NF0g5JCHlvkqxQ\n",
            "Fetching data from: https://clinicaltrials.gov/api/v2/studies?query.titles=Breast Cancer&pageSize=100&pageToken=NF0g5JCEk_Mhww\n",
            "Fetching data from: https://clinicaltrials.gov/api/v2/studies?query.titles=Breast Cancer&pageSize=100&pageToken=NF0g5JCBlvIrxw\n",
            "Fetching data from: https://clinicaltrials.gov/api/v2/studies?query.titles=Breast Cancer&pageSize=100&pageToken=NF0g5JCOkfMpww\n",
            "Fetching data from: https://clinicaltrials.gov/api/v2/studies?query.titles=Breast Cancer&pageSize=100&pageToken=NF0g5JeEkvEhxQ\n",
            "Fetching data from: https://clinicaltrials.gov/api/v2/studies?query.titles=Breast Cancer&pageSize=100&pageToken=NF0g5JeBlvUsxw\n",
            "Fetching data from: https://clinicaltrials.gov/api/v2/studies?query.titles=Breast Cancer&pageSize=100&pageToken=NF0g5JaHlPIpxw\n",
            "Fetching data from: https://clinicaltrials.gov/api/v2/studies?query.titles=Breast Cancer&pageSize=100&pageToken=NF0g5JaEm_Eqxg\n",
            "Fetching data from: https://clinicaltrials.gov/api/v2/studies?query.titles=Breast Cancer&pageSize=100&pageToken=NF0g5JaAk_Egwg\n",
            "Fetching data from: https://clinicaltrials.gov/api/v2/studies?query.titles=Breast Cancer&pageSize=100&pageToken=NF0g5JWGkvcgwA\n",
            "Fetching data from: https://clinicaltrials.gov/api/v2/studies?query.titles=Breast Cancer&pageSize=100&pageToken=NF0g5JWCkvAryQ\n",
            "Fetching data from: https://clinicaltrials.gov/api/v2/studies?query.titles=Breast Cancer&pageSize=100&pageToken=NF0g5JWPlvIswg\n",
            "Fetching data from: https://clinicaltrials.gov/api/v2/studies?query.titles=Breast Cancer&pageSize=100&pageToken=NF0g5JSGlfIvwg\n",
            "Fetching data from: https://clinicaltrials.gov/api/v2/studies?query.titles=Breast Cancer&pageSize=100&pageToken=NF0g5JSDlPAvxg\n",
            "Fetching data from: https://clinicaltrials.gov/api/v2/studies?query.titles=Breast Cancer&pageSize=100&pageToken=NF0g5JSPk_Mtwg\n",
            "Fetching data from: https://clinicaltrials.gov/api/v2/studies?query.titles=Breast Cancer&pageSize=100&pageToken=NF0g5JuGk_chyA\n",
            "Fetching data from: https://clinicaltrials.gov/api/v2/studies?query.titles=Breast Cancer&pageSize=100&pageToken=NF0g5JuDm_gryA\n",
            "Fetching data from: https://clinicaltrials.gov/api/v2/studies?query.titles=Breast Cancer&pageSize=100&pageToken=NF0g5JuPkPktwg\n",
            "Fetching data from: https://clinicaltrials.gov/api/v2/studies?query.titles=Breast Cancer&pageSize=100&pageToken=NF0g5JqGlvEswQ\n",
            "Fetching data from: https://clinicaltrials.gov/api/v2/studies?query.titles=Breast Cancer&pageSize=100&pageToken=NF0g5JqDkfUswQ\n",
            "Fetching data from: https://clinicaltrials.gov/api/v2/studies?query.titles=Breast Cancer&pageSize=100&pageToken=NF0g5JqPkPQtxQ\n",
            "Fetching data from: https://clinicaltrials.gov/api/v2/studies?query.titles=Breast Cancer&pageSize=100&pageToken=NF0g5JKHk_QtxAY\n",
            "Fetching data from: https://clinicaltrials.gov/api/v2/studies?query.titles=Breast Cancer&pageSize=100&pageToken=NF0g5JKHlvkuyQ8\n",
            "Fetching data from: https://clinicaltrials.gov/api/v2/studies?query.titles=Breast Cancer&pageSize=100&pageToken=NF0g5JKHlfkhwg4\n",
            "Fetching data from: https://clinicaltrials.gov/api/v2/studies?query.titles=Breast Cancer&pageSize=100&pageToken=NF0g5JKGk_QhxwI\n",
            "Fetching data from: https://clinicaltrials.gov/api/v2/studies?query.titles=Breast Cancer&pageSize=100&pageToken=NF0g5JKGlvgowwY\n",
            "Fetching data from: https://clinicaltrials.gov/api/v2/studies?query.titles=Breast Cancer&pageSize=100&pageToken=NF0g5JKGmvkoxw4\n",
            "Fetching data from: https://clinicaltrials.gov/api/v2/studies?query.titles=Breast Cancer&pageSize=100&pageToken=NF0g5JKFkPAgxAA\n",
            "Fetching data from: https://clinicaltrials.gov/api/v2/studies?query.titles=Breast Cancer&pageSize=100&pageToken=NF0g5JKFl_Qrxw8\n",
            "Fetching data from: https://clinicaltrials.gov/api/v2/studies?query.titles=Breast Cancer&pageSize=100&pageToken=NF0g5JKFm_AhxQ8\n",
            "Fetching data from: https://clinicaltrials.gov/api/v2/studies?query.titles=Breast Cancer&pageSize=100&pageToken=NF0g5JKEkPIhwQ8\n",
            "Fetching data from: https://clinicaltrials.gov/api/v2/studies?query.titles=Breast Cancer&pageSize=100&pageToken=NF0g5JKEl_cvyQE\n",
            "Fetching data from: https://clinicaltrials.gov/api/v2/studies?query.titles=Breast Cancer&pageSize=100&pageToken=NF0g5JKEmvchwQ8\n",
            "Fetching data from: https://clinicaltrials.gov/api/v2/studies?query.titles=Breast Cancer&pageSize=100&pageToken=NF0g5JKDk_QuxwI\n",
            "Fetching data from: https://clinicaltrials.gov/api/v2/studies?query.titles=Breast Cancer&pageSize=100&pageToken=NF0g5JKDlvghxwU\n",
            "Fetching data from: https://clinicaltrials.gov/api/v2/studies?query.titles=Breast Cancer&pageSize=100&pageToken=NF0g5JKDmvQoyA8\n",
            "Fetching data from: https://clinicaltrials.gov/api/v2/studies?query.titles=Breast Cancer&pageSize=100&pageToken=NF0g5JKCk_Mtxgc\n",
            "Fetching data from: https://clinicaltrials.gov/api/v2/studies?query.titles=Breast Cancer&pageSize=100&pageToken=NF0g5JKClvYoxQI\n",
            "Fetching data from: https://clinicaltrials.gov/api/v2/studies?query.titles=Breast Cancer&pageSize=100&pageToken=NF0g5JKClfgowA4\n",
            "Fetching data from: https://clinicaltrials.gov/api/v2/studies?query.titles=Breast Cancer&pageSize=100&pageToken=NF0g5JKBk_IvwgY\n",
            "Fetching data from: https://clinicaltrials.gov/api/v2/studies?query.titles=Breast Cancer&pageSize=100&pageToken=NF0g5JKBl_EhxAY\n",
            "Fetching data from: https://clinicaltrials.gov/api/v2/studies?query.titles=Breast Cancer&pageSize=100&pageToken=NF0g5JKBmvQqxQA\n",
            "Fetching data from: https://clinicaltrials.gov/api/v2/studies?query.titles=Breast Cancer&pageSize=100&pageToken=NF0g5JKAk_kqxgM\n",
            "Fetching data from: https://clinicaltrials.gov/api/v2/studies?query.titles=Breast Cancer&pageSize=100&pageToken=NF0g5JKAl_kuxg8\n",
            "Fetching data from: https://clinicaltrials.gov/api/v2/studies?query.titles=Breast Cancer&pageSize=100&pageToken=NF0g5JKAm_cuyAQ\n",
            "Fetching data from: https://clinicaltrials.gov/api/v2/studies?query.titles=Breast Cancer&pageSize=100&pageToken=NF0g5JKPkfQvyQQ\n",
            "Fetching data from: https://clinicaltrials.gov/api/v2/studies?query.titles=Breast Cancer&pageSize=100&pageToken=NF0g5JKPlPUswAE\n",
            "Fetching data from: https://clinicaltrials.gov/api/v2/studies?query.titles=Breast Cancer&pageSize=100&pageToken=NF0g5JKPm_UowQc\n",
            "Fetching data from: https://clinicaltrials.gov/api/v2/studies?query.titles=Breast Cancer&pageSize=100&pageToken=NF0g5JKOkfUuwAU\n",
            "Fetching data from: https://clinicaltrials.gov/api/v2/studies?query.titles=Breast Cancer&pageSize=100&pageToken=NF0g5JKOlPcrwgE\n",
            "Fetching data from: https://clinicaltrials.gov/api/v2/studies?query.titles=Breast Cancer&pageSize=100&pageToken=NF0g5JKOm_cpwA8\n",
            "Fetching data from: https://clinicaltrials.gov/api/v2/studies?query.titles=Breast Cancer&pageSize=100&pageToken=NF0g5JGHkPgoxAI\n",
            "Fetching data from: https://clinicaltrials.gov/api/v2/studies?query.titles=Breast Cancer&pageSize=100&pageToken=NF0g5JGHlPAhyQI\n",
            "Fetching data from: https://clinicaltrials.gov/api/v2/studies?query.titles=Breast Cancer&pageSize=100&pageToken=NF0g5JGGkvMoxQc\n",
            "Fetching data from: https://clinicaltrials.gov/api/v2/studies?query.titles=Breast Cancer&pageSize=100&pageToken=NF0g5JGGkPkswgE\n",
            "Fetching data from: https://clinicaltrials.gov/api/v2/studies?query.titles=Breast Cancer&pageSize=100&pageToken=NF0g5JGGlPcgxgc\n",
            "Fetching data from: https://clinicaltrials.gov/api/v2/studies?query.titles=Breast Cancer&pageSize=100&pageToken=NF0g5JGGm_grwgI\n",
            "Fetching data from: https://clinicaltrials.gov/api/v2/studies?query.titles=Breast Cancer&pageSize=100&pageToken=NF0g5JGFkfMsxAM\n",
            "Fetching data from: https://clinicaltrials.gov/api/v2/studies?query.titles=Breast Cancer&pageSize=100&pageToken=NF0g5JGFlPEowgM\n",
            "Fetching data from: https://clinicaltrials.gov/api/v2/studies?query.titles=Breast Cancer&pageSize=100&pageToken=NF0g5JGFm_AtwQc\n",
            "Fetching data from: https://clinicaltrials.gov/api/v2/studies?query.titles=Breast Cancer&pageSize=100&pageToken=NF0g5JGEkPkgyQQ\n",
            "Fetching data from: https://clinicaltrials.gov/api/v2/studies?query.titles=Breast Cancer&pageSize=100&pageToken=NF0g5JGEl_gtxgc\n",
            "Fetching data from: https://clinicaltrials.gov/api/v2/studies?query.titles=Breast Cancer&pageSize=100&pageToken=NF0g5JGEm_MqxAU\n",
            "Fetching data from: https://clinicaltrials.gov/api/v2/studies?query.titles=Breast Cancer&pageSize=100&pageToken=NF0g5JGDkPMsxQQ\n",
            "Fetching data from: https://clinicaltrials.gov/api/v2/studies?query.titles=Breast Cancer&pageSize=100&pageToken=NF0g5JGDlvgqyQA\n",
            "Fetching data from: https://clinicaltrials.gov/api/v2/studies?query.titles=Breast Cancer&pageSize=100&pageToken=NF0g5JGDmvYpyAc\n",
            "Fetching data from: https://clinicaltrials.gov/api/v2/studies?query.titles=Breast Cancer&pageSize=100&pageToken=NF0g5JGCk_YvxwM\n",
            "Fetching data from: https://clinicaltrials.gov/api/v2/studies?query.titles=Breast Cancer&pageSize=100&pageToken=NF0g5JGCl_IpwQA\n",
            "Fetching data from: https://clinicaltrials.gov/api/v2/studies?query.titles=Breast Cancer&pageSize=100&pageToken=NF0g5JGCmvQswwE\n",
            "Fetching data from: https://clinicaltrials.gov/api/v2/studies?query.titles=Breast Cancer&pageSize=100&pageToken=NF0g5JGBkPAuyAc\n",
            "Fetching data from: https://clinicaltrials.gov/api/v2/studies?query.titles=Breast Cancer&pageSize=100&pageToken=NF0g5JGBl_UowgM\n",
            "Fetching data from: https://clinicaltrials.gov/api/v2/studies?query.titles=Breast Cancer&pageSize=100&pageToken=NF0g5JGBmvgqxA4\n",
            "Fetching data from: https://clinicaltrials.gov/api/v2/studies?query.titles=Breast Cancer&pageSize=100&pageToken=NF0g5JGAkPMoxAE\n",
            "Fetching data from: https://clinicaltrials.gov/api/v2/studies?query.titles=Breast Cancer&pageSize=100&pageToken=NF0g5JGAl_chyAM\n",
            "Fetching data from: https://clinicaltrials.gov/api/v2/studies?query.titles=Breast Cancer&pageSize=100&pageToken=NF0g5JGAm_cvwQ8\n",
            "Fetching data from: https://clinicaltrials.gov/api/v2/studies?query.titles=Breast Cancer&pageSize=100&pageToken=NF0g5JGPkfAoxAU\n",
            "Fetching data from: https://clinicaltrials.gov/api/v2/studies?query.titles=Breast Cancer&pageSize=100&pageToken=NF0g5JGPlPMhwgM\n",
            "Fetching data from: https://clinicaltrials.gov/api/v2/studies?query.titles=Breast Cancer&pageSize=100&pageToken=NF0g5JGPm_YtwAI\n",
            "Fetching data from: https://clinicaltrials.gov/api/v2/studies?query.titles=Breast Cancer&pageSize=100&pageToken=NF0g5JGOkfErxwM\n",
            "Fetching data from: https://clinicaltrials.gov/api/v2/studies?query.titles=Breast Cancer&pageSize=100&pageToken=NF0g5JGOl_krxgA\n",
            "Fetching data from: https://clinicaltrials.gov/api/v2/studies?query.titles=Breast Cancer&pageSize=100&pageToken=NF0g5JCHkvEsxg8\n",
            "Fetching data from: https://clinicaltrials.gov/api/v2/studies?query.titles=Breast Cancer&pageSize=100&pageToken=NF0g5JCHkfIgwgY\n",
            "Fetching data from: https://clinicaltrials.gov/api/v2/studies?query.titles=Breast Cancer&pageSize=100&pageToken=NF0g5JCHlfMrxQY\n",
            "Fetching data from: https://clinicaltrials.gov/api/v2/studies?query.titles=Breast Cancer&pageSize=100&pageToken=NF0g5JCGk_AtwA4\n",
            "Fetching data from: https://clinicaltrials.gov/api/v2/studies?query.titles=Breast Cancer&pageSize=100&pageToken=NF0g5JCGlvctwQI\n",
            "Fetching data from: https://clinicaltrials.gov/api/v2/studies?query.titles=Breast Cancer&pageSize=100&pageToken=NF0g5JCGlfUpww4\n",
            "Fetching data from: https://clinicaltrials.gov/api/v2/studies?query.titles=Breast Cancer&pageSize=100&pageToken=NF0g5JCFkvQgwwQ\n",
            "Fetching data from: https://clinicaltrials.gov/api/v2/studies?query.titles=Breast Cancer&pageSize=100&pageToken=NF0g5JCFlvEpxAc\n",
            "Fetching data from: https://clinicaltrials.gov/api/v2/studies?query.titles=Breast Cancer&pageSize=100&pageToken=NF0g5JCFlfIpwAI\n",
            "Fetching data from: https://clinicaltrials.gov/api/v2/studies?query.titles=Breast Cancer&pageSize=100&pageToken=NF0g5JCEkvYqwQY\n",
            "Fetching data from: https://clinicaltrials.gov/api/v2/studies?query.titles=Breast Cancer&pageSize=100&pageToken=NF0g5JCElvQowwE\n",
            "Fetching data from: https://clinicaltrials.gov/api/v2/studies?query.titles=Breast Cancer&pageSize=100&pageToken=NF0g5JCElfYuwQc\n",
            "Fetching data from: https://clinicaltrials.gov/api/v2/studies?query.titles=Breast Cancer&pageSize=100&pageToken=NF0g5JCDkvYvxQU\n",
            "Fetching data from: https://clinicaltrials.gov/api/v2/studies?query.titles=Breast Cancer&pageSize=100&pageToken=NF0g5JCDlvUpwwA\n",
            "Fetching data from: https://clinicaltrials.gov/api/v2/studies?query.titles=Breast Cancer&pageSize=100&pageToken=NF0g5JCDlfUtwQ8\n",
            "Fetching data from: https://clinicaltrials.gov/api/v2/studies?query.titles=Breast Cancer&pageSize=100&pageToken=NF0g5JCCk_AvyAU\n",
            "Fetching data from: https://clinicaltrials.gov/api/v2/studies?query.titles=Breast Cancer&pageSize=100&pageToken=NF0g5JCClvYqxwI\n",
            "Fetching data from: https://clinicaltrials.gov/api/v2/studies?query.titles=Breast Cancer&pageSize=100&pageToken=NF0g5JCClfUvxAM\n",
            "            NCT ID   Acronym      Overall Status  Start Date  \\\n",
            "0      NCT01254591   Unknown             UNKNOWN     2006-11   \n",
            "1      NCT05483491   Unknown          RECRUITING  2022-09-26   \n",
            "2      NCT06378294     MACMA          RECRUITING  2021-04-20   \n",
            "3      NCT02783794   Unknown           COMPLETED  2012-12-24   \n",
            "4      NCT03390894   Unknown          RECRUITING  2018-01-18   \n",
            "...            ...       ...                 ...         ...   \n",
            "10643  NCT06412133   Unknown  NOT_YET_RECRUITING  2024-09-17   \n",
            "10644  NCT00420433   Unknown           COMPLETED     2004-09   \n",
            "10645  NCT05837533   Unknown          RECRUITING  2023-05-17   \n",
            "10646  NCT01299987  TARGIT-E           COMPLETED     2011-01   \n",
            "10647  NCT01569087   Unknown           COMPLETED     2012-05   \n",
            "\n",
            "                                              Conditions  \\\n",
            "0      Breast Cancer, Colorectal Cancer, Esophageal C...   \n",
            "1      Gastric Cancer, Breast Cancer, Cervical Cancer...   \n",
            "2                                          Breast Cancer   \n",
            "3       Metastatic Breast Cancer, Stage IV Breast Cancer   \n",
            "4                    Invasive Breast Cancer Early Stages   \n",
            "...                                                  ...   \n",
            "10643  Breast Cancer, Breast Cancer Female, Randomize...   \n",
            "10644                     Breast Cancer, Bone Metastases   \n",
            "10645  Breast Cancer Stage IV, Breast Cancer Metastat...   \n",
            "10646  Breast Neoplasms, Breast Diseases, Neoplasm Re...   \n",
            "10647                   Chemotherapy-induced Neutropenia   \n",
            "\n",
            "                                           Interventions  \\\n",
            "0      18F-fluoromisonidazole, fluorescence angiograp...   \n",
            "1                       KK-LC-1 TCR-T cells, Aldesleukin   \n",
            "2                                             Mastectomy   \n",
            "3                                         BP-C1, Placebo   \n",
            "4                                No interventions listed   \n",
            "...                                                  ...   \n",
            "10643                                        photography   \n",
            "10644        Skeletal Scintigraphy, Radiography, CT Scan   \n",
            "10645                                Communication model   \n",
            "10646                        intraoperative radiotherapy   \n",
            "10647                         empegfilrastim, filgrastim   \n",
            "\n",
            "                                               Locations  \\\n",
            "0                                London - United Kingdom   \n",
            "1      New Brunswick - United States, New Brunswick -...   \n",
            "2      Ferrol - Spain, Santiago De Compostela - Spain...   \n",
            "3      Moscow - Russian Federation, Nizhniy Novgorod ...   \n",
            "4      Avilés - Spain, Pamplona - Spain, La Laguna - ...   \n",
            "...                                                  ...   \n",
            "10643     Taichung City - Taiwan, Taichung City - Taiwan   \n",
            "10644                            Houston - United States   \n",
            "10645                    San Pedro Garza Garcia - Mexico   \n",
            "10646                                 Mannheim - Germany   \n",
            "10647  Arkhangelsk - Russian Federation, Perm - Russi...   \n",
            "\n",
            "      Primary Completion Date Study First Post Date Last Update Post Date  \\\n",
            "0                     2013-08            2010-12-06            2013-08-26   \n",
            "1                  2026-09-01            2022-08-02            2024-07-12   \n",
            "2                  2024-12-31            2024-04-22            2024-04-25   \n",
            "3                  2014-02-28            2016-05-26            2019-10-10   \n",
            "4                     2047-01            2018-01-04            2024-04-12   \n",
            "...                       ...                   ...                   ...   \n",
            "10643              2024-12-30            2024-05-14            2024-05-14   \n",
            "10644                 2008-10            2007-01-11            2016-02-19   \n",
            "10645                 2024-12            2023-05-01            2023-10-18   \n",
            "10646                 2017-11            2011-02-21            2022-06-02   \n",
            "10647                 2013-01            2012-04-02            2016-12-05   \n",
            "\n",
            "           Study Type         Phases  \\\n",
            "0      INTERVENTIONAL             NA   \n",
            "1      INTERVENTIONAL         PHASE1   \n",
            "2       OBSERVATIONAL  Not Available   \n",
            "3      INTERVENTIONAL         PHASE2   \n",
            "4       OBSERVATIONAL  Not Available   \n",
            "...               ...            ...   \n",
            "10643  INTERVENTIONAL             NA   \n",
            "10644   OBSERVATIONAL  Not Available   \n",
            "10645  INTERVENTIONAL             NA   \n",
            "10646  INTERVENTIONAL             NA   \n",
            "10647  INTERVENTIONAL         PHASE2   \n",
            "\n",
            "                                             Eligibility  \n",
            "0      DISEASE CHARACTERISTICS:\\n\\n* Diagnosis of non...  \n",
            "1      1. Inclusion Criteria: Subjects must meet all ...  \n",
            "2      Inclusion Criteria:\\n\\n* Patients with T1-2 pr...  \n",
            "3      Inclusion Criteria:\\n\\nFemale patients with hi...  \n",
            "4      Inclusion Criteria:\\n\\n* Patients included in ...  \n",
            "...                                                  ...  \n",
            "10643  Inclusion Criteria:\\n\\n* Diagnosis of stage 1-...  \n",
            "10644  Inclusion Criteria:\\n\\n1. Newly diagnosed bone...  \n",
            "10645  Inclusion Criteria:\\n\\n* Diagnosis of de novo ...  \n",
            "10646  Inclusion Criteria:\\n\\n* cT1c cN0 cM0\\n* ≥ 70 ...  \n",
            "10647  Inclusion Criteria:\\n\\n* Signed informed conse...  \n",
            "\n",
            "[10648 rows x 13 columns]\n"
          ]
        }
      ]
    },
    {
      "cell_type": "code",
      "source": [
        "clinical_trial_data = clinical_trial_data[clinical_trial_data['Overall Status'] == 'RECRUITING']"
      ],
      "metadata": {
        "id": "lFuDNDGXzg0t"
      },
      "execution_count": 3,
      "outputs": []
    },
    {
      "cell_type": "code",
      "source": [
        "print('Number of Clinical Trials: ' + str(len(clinical_trial_data)))"
      ],
      "metadata": {
        "colab": {
          "base_uri": "https://localhost:8080/"
        },
        "id": "CTAXgwbxz7gn",
        "outputId": "fc2c7acf-4f76-40ac-c900-8ab7d8c3ea52"
      },
      "execution_count": 6,
      "outputs": [
        {
          "output_type": "stream",
          "name": "stdout",
          "text": [
            "Number of Clinical Trials: 1764\n"
          ]
        }
      ]
    },
    {
      "cell_type": "markdown",
      "source": [
        "### Import Patient Records"
      ],
      "metadata": {
        "id": "M6J3t94fzfwo"
      }
    },
    {
      "cell_type": "code",
      "source": [
        "from google.colab import drive\n",
        "drive.mount('/content/drive/', force_remount=True)"
      ],
      "metadata": {
        "colab": {
          "base_uri": "https://localhost:8080/"
        },
        "id": "OEAMU3pCkSPi",
        "outputId": "83f6893e-8fa9-4d5e-a8ee-d4e33aa4f579"
      },
      "execution_count": null,
      "outputs": [
        {
          "output_type": "stream",
          "name": "stdout",
          "text": [
            "Mounted at /content/drive/\n"
          ]
        }
      ]
    },
    {
      "cell_type": "code",
      "source": [
        "#!ls /content/drive/MyDrive/synthea_dataset"
      ],
      "metadata": {
        "id": "WhBsfIczlS1-",
        "colab": {
          "base_uri": "https://localhost:8080/"
        },
        "outputId": "91328741-6307-4044-c5b8-0a8b6bff2a74"
      },
      "execution_count": null,
      "outputs": [
        {
          "output_type": "stream",
          "name": "stdout",
          "text": [
            "'Adrian111_Bartell116_fd25b51b-dc2a-4edb-b7c9-2c5d178a0ee7 (1).json'\n",
            " Adrian111_Bartell116_fd25b51b-dc2a-4edb-b7c9-2c5d178a0ee7.json\n",
            " Adrianna470_Boyer713_6fcf56ed-8ad8-4395-a966-9ebee3822656.json\n",
            " Adrienne302_Zulauf375_1c83fb03-d139-4626-bb39-4a062c22b533.json\n",
            " Alaine226_Kassulke119_5efa5654-8190-4f4d-9ba3-3b79448440b5.json\n",
            " Ali918_Larson43_896d3035-d036-4c8a-9901-367dc8814495.json\n",
            " Allegra202_Heller342_cc4c634f-c2ff-4963-b75a-fa2e33dc208f.json\n",
            " Allena79_Pacocha935_d11e7fb0-5853-4762-b8fa-6cd9008a790b.json\n",
            " Almeda560_Davis923_c762bbaa-b207-4b4d-8123-e5bc93e3b99b.json\n",
            " Ana_María762_Gamez720_de3666a6-b4e3-4ec8-9ae7-bde168e03465.json\n",
            " Anne636_Collins926_42c179ad-99bd-4ca4-861f-7151d774a243.json\n",
            " Annelle169_King743_ddd8d7a4-5992-4572-a231-80bc305298b1.json\n",
            " Annemarie794_Kihn564_907083ad-22c9-4067-8321-a6622ce9792c.json\n",
            " Aracely711_Carter549_31665402-bfc5-45e1-b12a-fdc42836f50a.json\n",
            " Arden380_Reichel38_9c6e8766-9da5-428e-be61-e81a78a920c2.json\n",
            " Arlean815_MacGyver246_f9e2ec3e-731f-4341-8a6f-dffa5a44b373.json\n",
            " Awilda854_Marquardt819_aa016b70-2fbe-4aa2-aa24-ba31c29b147d.json\n",
            " Babette571_Vandervort697_4ff6edf7-a10c-4895-9522-a01c82c78aa0.json\n",
            " Bettina657_Beier427_81ac6a30-f043-4a36-9942-0091d6cca2c4.json\n",
            " Billye739_Kessler503_560d566c-8c4e-4d45-8178-99a16b4e6c5c.json\n",
            " Britt177_Mayert710_b6f8ad9c-27aa-4422-b473-3abdb0b00646.json\n",
            " Candis134_Pouros728_6d3dd31f-ca43-44d7-963e-ba01d1437008.json\n",
            " Carisa395_Robel940_f3c9a0a0-4edd-44bc-a5dd-8df22b9b7e4f.json\n",
            " Carleen42_Medhurst46_e37cac05-06e8-4016-9412-f9420052616e.json\n",
            " Carmel816_Friesen796_e7782b13-c082-4e75-a908-e80cf03e5434.json\n",
            " Carmelia328_Fisher429_efe6f65c-1c24-4f64-970c-064573d67541.json\n",
            " Carmen818_Domínguez946_8558627a-a974-4d8d-9358-8e1e7c1aa8aa.json\n",
            " Carolina179_Arellano2_a1940158-4299-4063-beca-881d19ab7c44.json\n",
            " Carroll471_Kreiger457_f417dced-733d-45fe-a945-4f2f12c78cef.json\n",
            " Cecilia788_Zemlak964_ae97ef82-ee94-4b4f-81f4-12528da7b8dd.json\n",
            " Celine582_Bosco882_d7fba07a-6426-4815-a75f-23bf2dd56433.json\n",
            " Chan58_Senger904_b38d5176-53ea-4e19-a0ca-1ad1c02afa01.json\n",
            " Chandra831_Nader710_0a3009fd-b940-4c05-8b53-33828101d261.json\n",
            " Charleen536_Hilpert278_756277df-1d74-4f69-a5f1-6e8bbb1810f9.json\n",
            " Charlotte28_Wiegand701_f7a124b6-1f58-4c3c-944d-aa3cf16bf8c5.json\n",
            " Chiquita638_Hodkiewicz467_30b4a887-88a1-42a1-b8e7-b4b9f2926087.json\n",
            " Christine147_Lindgren255_336c764b-61d7-4654-baf4-4f4193a025e5.json\n",
            " Clementine778_Spinka232_e3ab8622-88cd-44c8-9c4b-87bcfee7f4fc.json\n",
            " Clyde817_Hackett68_c9a3ec7e-cdbc-475b-921d-245648b33fcd.json\n",
            " Coretta598_Roberts511_c551ab6b-9373-498e-962e-6e03731dd4b9.json\n",
            " Cristina921_Santiago500_fc52602f-0b7b-4ab6-8d25-b8990e9ae938.json\n",
            " Dagmar148_Hamill307_dcc31412-8e58-463b-8755-535312e9d897.json\n",
            " Darlene91_Lockman863_b1db036c-75d8-473e-ace5-aa624f8c072e.json\n",
            " Deetta949_Prosacco716_b347f5a2-2402-4a2b-ab7a-cb4fa00403f5.json\n",
            " Delmy607_Sipes176_6977a388-97c8-4a9b-9105-75d135397cf9.json\n",
            " Deloise241_Dickens475_635e1e46-b484-43f4-b1c5-8975e06c8272.json\n",
            " Deneen201_Ward668_7a7eb835-116a-4264-9710-b5f11e82f167.json\n",
            " Devora529_Runte676_483e706f-12ca-47df-a8bb-c35578420f2e.json\n",
            " Diedre599_Olson653_47c4dd79-95dc-4b0b-b155-ee593283d3ff.json\n",
            " Dominique369_Daniel959_0e197e39-92cc-4621-b60b-0e0544fa7c49.json\n",
            " Doreen575_Blick895_32cd78c6-28e9-4a68-a59a-2e9f14920422.json\n",
            " Dorothy355_Lakin515_f28f2b56-3f27-4acc-9412-3cbcae88c89e.json\n",
            " Dorthey25_Doyle959_c5c3d8f5-a571-40a6-b651-faf16da5dc3d.json\n",
            " Earlean804_Metz686_a40f7275-6077-4f30-b793-c737b828b991.json\n",
            " Edmond919_Murray856_b7bd3a35-120d-4899-8e74-7e054d8a5e42.json\n",
            " Eleanore671_Runolfsson901_c5fbf371-32d3-4bec-abe3-08bd2159ce66.json\n",
            " Ethyl508_Abernathy524_2aafe46b-5627-4476-b120-bfc8536b5fd1.json\n",
            " Etta748_Denesik803_4763c46f-a750-497f-9f2f-8cf590abec0c.json\n",
            " Eustolia154_Schuster709_3c0109e4-c4d2-487e-a01c-b14414fc5e88.json\n",
            " Evelia928_McKenzie376_f026430f-3996-44d5-bd67-d6c82f8e1c8f.json\n",
            " Felix524_Bergstrom287_06998308-84b5-432c-8e80-3366b690738d.json\n",
            " Fern75_Steuber698_5b50b03a-0873-47d9-ae9c-adf13b518fa2.json\n",
            " Flavia315_Heller342_28a517ee-8aa5-40bf-80bc-6cd1f534d0e5.json\n",
            " Francisca486_Aponte375_84194c17-44b6-4265-b40d-76becb0ce44c.json\n",
            " Gabriel934_Ryan260_1a1e56ea-3376-4b1e-bb3b-ff7828fe774d.json\n",
            " Garland107_Kessler503_08e997af-ca79-4834-9be3-1434145515e8.json\n",
            " Georgie506_Runte676_cfae7d32-5bdf-4515-99d2-3f3de3a5e5a8.json\n",
            " Geri861_Kling921_e0e8046c-cdab-4310-b425-8d31d01022a2.json\n",
            " Giuseppe872_Marquardt819_11745d8d-2ab3-4a73-a768-ccb45034ed1e.json\n",
            " Glayds212_Schuster709_f083a7ab-d894-4174-a382-1d43a1953e2b.json\n",
            " Gloria696_Hermann103_630bac75-a65f-49f6-8f90-461d3c420145.json\n",
            " Glynis780_Sawayn19_ca521f0a-3954-4e38-b0a2-aa5d46f14f44.json\n",
            " Grace552_Little434_4198b779-4200-467c-acc5-5819803189fe.json\n",
            " Guadalupe206_Emmerich580_fba7ca01-29bc-41ba-8abc-ae97cbee7247.json\n",
            " Hang682_Reynolds644_d804721b-672e-4181-859a-0087c4024ba3.json\n",
            " Hannelore734_Labadie908_b386d328-8300-4633-a6fd-09bc9f19dd1c.json\n",
            " Heather971_Brakus656_36190ebe-63ac-41b5-83ff-54523f1e3183.json\n",
            " Herminia75_Hintz995_5bac58f3-548e-47ff-9772-c2afc1db3d14.json\n",
            " Hisako109_Wilderman619_71eded91-07d2-41ba-80a1-788f3d9ae46a.json\n",
            " Inger271_Kemmer137_9ca521d8-0612-4ac9-9211-458f4ba5d435.json\n",
            " Irene779_Sipes176_97969dd0-35c8-44ba-8eb0-48f8b54e9c67.json\n",
            " Isabell86_Turner526_76ec8764-a4ec-4d3a-bcf0-2155c31d7317.json\n",
            " Jackeline690_Runolfsdottir785_b21fe61a-27c9-46a6-a446-f4d2469eb93d.json\n",
            " Jackelyn13_Schuster709_abfa2d30-fccb-4e78-9ec2-8ff9264713ed.json\n",
            " Jackqueline794_Runte676_acd885a0-5b0c-4b59-97fa-8ab828f386e4.json\n",
            " Jae222_Walter473_6beb14d3-cc49-4aef-9f12-f436bf4d9828.json\n",
            " Janella261_Ernser583_255d1740-1e24-4935-af72-36f28951818f.json\n",
            " Jannie509_Gottlieb798_32fcbe9d-b729-4b9b-8cd8-195249c9794c.json\n",
            " Jarrett354_Mante251_008922e3-19ef-475c-bcbb-5d94919223a2.json\n",
            " Jazmine498_Labadie908_7deaf584-855e-49ef-8d81-92ee4c2e8322.json\n",
            " Jennette837_Fisher429_eeabec00-c9e6-4c3a-80ce-50377d310d85.json\n",
            " Jeri234_Koss676_a0437435-67d7-49f0-8a7d-a2344094a8f9.json\n",
            " Jetta614_Steuber698_7a54e9ec-99ec-420b-8161-710ec784a1b3.json\n",
            " Jewel43_Schumm995_e2c277f9-4181-41de-aa92-d4de67bd1549.json\n",
            " Jewell855_Hansen121_dc65e7b0-e34b-4014-b0a3-8ae17074ab55.json\n",
            " Jin479_Grimes165_b5280469-52d9-4fdc-a76a-1b8208837b52.json\n",
            " Judy192_Bayer639_f66da926-b2cd-4f99-a4b7-979de73acd00.json\n",
            " Julia241_Collazo246_67bcc796-b519-4951-b69c-2dc60d0d5258.json\n",
            " Juliane376_Von197_93435295-0ca3-4846-abb6-8faba6fcd3f6.json\n",
            " Karan473_Kuhlman484_1a71a3f2-edad-4db2-834b-ce735a7cc2b7.json\n",
            " Keira502_Schowalter414_116eac60-78d4-425c-a4a4-ee0843d076bf.json\n",
            " Keturah238_Bruen238_ad023201-471e-4780-b424-0eb172c074f2.json\n",
            " Kiesha539_Funk324_7a2f23e3-5e4b-43d6-beb7-71db69800af7.json\n",
            " Krystal150_Hodkiewicz467_f6a25f48-5894-4a73-8345-b1101db4721a.json\n",
            " Landon622_Beier427_f49b5d35-10da-4fb7-80af-7bebe7047d9f.json\n",
            " Lane844_Brakus656_1ab4a90c-a38e-4411-8ff4-9aa46b6e0fbe.json\n",
            " Lasandra232_Gutkowski940_155793f1-0ec4-4edd-a1e0-fb7a9da7c7e0.json\n",
            " Lashandra868_Cruickshank494_010d66c7-c7a8-413f-ac8f-98bd58b91f0e.json\n",
            " Lashay246_Krajcik437_9fbf53d2-bd33-499c-99ab-0978e8825c76.json\n",
            " Lashay246_Ritchie586_8340472d-a9d5-41d9-b51e-0b5fdc706c1f.json\n",
            " Lavera253_Connelly992_ce117845-1e0f-45cb-9b15-0cc1fd895b2e.json\n",
            " Leigh689_Okuneva707_2ff8d012-65e8-4e73-8b69-fd7f39e1bc5a.json\n",
            " Leonor133_Coronado577_a652e5f5-66b8-48e9-b5a4-1bb37e615470.json\n",
            " Lesia354_Legros616_d2b84124-b0d5-4246-a7fc-4b8710dd407e.json\n",
            " Lilia791_Palacios784_e64834ac-dd47-4994-9e4f-35df2908d889.json\n",
            " Lindsey52_Douglas31_23daac38-1ba5-4eec-b549-3f73cb397ff7.json\n",
            " Liz413_Schimmel440_a3739e6c-ba84-4ba8-9e42-bf9db63e78bc.json\n",
            " Louis204_Haley279_676a26ad-d8a3-4239-9a52-057dd6eed804.json\n",
            " Lourdes258_Marrero674_eb4aa950-b89e-4a2b-863d-e9c792daf47c.json\n",
            " Louvenia131_Stamm704_5778e6f4-d748-4bfa-8ad9-2d59175cce96.json\n",
            " Luis923_Cremin516_e06ba0d6-5338-4630-be9c-c7a7817fc890.json\n",
            " Lynette631_Medhurst46_29218626-5547-4c54-b97d-f75a95945e99.json\n",
            " Madaline59_Eichmann909_83803f51-6a7b-4ae9-9f3c-d89bfc838292.json\n",
            " Madeline975_Lakin515_f86863ca-60e4-4c83-a15f-482a65e2c3bb.json\n",
            " Malinda718_Brakus656_1b71b43a-751c-49fc-b9fc-5055d82a6a94.json\n",
            " Margie619_Flatley871_e96ef562-220e-4708-b405-9deabb298e52.json\n",
            " Marin763_Walker122_c9b48076-0756-419c-94fd-d08c42548631.json\n",
            " Mark765_Fritsch593_8ab28767-3f9f-444f-b825-e234671b37d3.json\n",
            " Marketta481_Torp761_f9faa8e7-ad72-40c0-b23f-15864b30b2be.json\n",
            " Marna905_Green467_7c266194-ab35-4e6a-bd03-568c991e0e89.json\n",
            " Marta91_Kreiger457_d6a4b28e-4c74-4a0b-8d96-ecdf61eae789.json\n",
            " Martin117_Ziemann98_5f00ddaf-418d-4493-9dda-4d92c590573d.json\n",
            " Marvis190_Batz141_673e4c56-79d3-43e8-939f-dce4607f8136.json\n",
            " Maura912_Ortiz186_20f52f35-d858-4bfa-a4b0-89c416fe5ada.json\n",
            " Maurice742_McGlynn426_483eb8dc-f305-47e9-a64f-55a0989dfe73.json\n",
            " Mercedes82_Moen819_f630e0a2-4d6c-4eea-a76c-130e2c2cae35.json\n",
            " Michel472_Adams676_218ca15d-3a79-463f-93c9-1c5c0fc69c8f.json\n",
            " Mindi87_Wehner319_43a4beec-0aa4-4a06-ab76-7e2d9f9328f3.json\n",
            " Mirna233_Hansen121_70ad5e64-c894-403e-a907-5f24fad1e002.json\n",
            " Mora209_Johnston597_7a97d07f-378a-449c-a7fe-cacfa5e1855a.json\n",
            " Mozelle144_Gorczany269_1db6f5a0-17e5-4d15-b549-3ddfa966c07c.json\n",
            " Myriam433_Ratke343_79fbc95b-043b-421a-bcee-faee10d6af35.json\n",
            " Myrtice99_Legros616_27e11433-9ce1-4f33-9301-f37b4005e79c.json\n",
            " Natividad796_Kling921_cab30060-bf63-4cdd-b328-a9fcb8863b4d.json\n",
            " Nestor901_Mosciski958_1a2dd577-98ce-4a02-be5a-44e19f2e365f.json\n",
            " Paulita78_Watsica258_2dcefbbe-9f7c-4253-85f8-e1f0e74d90c1.json\n",
            " Petronila724_Greenholt190_46000196-4289-4762-b3b9-649e060003be.json\n",
            " Pilar644_Lozano749_efc7e706-e9c0-43f2-ab77-1ea74f194050.json\n",
            " Prudence900_Effertz744_9807ce8c-fd10-4537-9043-d0710460e410.json\n",
            " Raquel318_Ramón841_ed7432a8-5fc5-45d5-8693-a527819fca70.json\n",
            " Reyna401_Klein929_91c352e1-d3b3-460e-929b-1108f9f977c8.json\n",
            " Rochelle550_Dicki44_c02ea0cf-2ff2-4490-b71a-031dfb9f5bf7.json\n",
            " Rocio28_Cassin499_2c656695-951b-4f2e-9fab-610064468e42.json\n",
            " Romelia905_Spinka232_57ae15f6-44ae-4af0-9054-ef3bef167b8e.json\n",
            " Ronnie7_Gleason633_82a836c0-d765-4b6d-97c8-57b41d214806.json\n",
            " Ronnie7_Greenfelder433_fddf3bac-f14d-45a9-a0b0-690435ea799b.json\n",
            " Rory188_Connelly992_a6f4b943-96fe-4136-b011-bd9fe5956a0a.json\n",
            " Roselee899_Pollich983_ce90a7d7-82f3-4687-93a0-7d6c8db6f2fc.json\n",
            " Roseline981_Schulist381_9951be7f-581a-4137-9116-5e8b4c92f1f2.json\n",
            " Rufina863_Kassulke119_322addb1-b2f2-4db0-b56d-ade83c8ead0a.json\n",
            " Ruthe70_Wiegand701_7409c0ef-8a89-4f63-a1a8-6e936a5757d3.json\n",
            " Scott935_Langworth352_6d3629ed-2b37-4970-9e83-e6986b6cddf7.json\n",
            " Sean831_Wunsch504_ee6e5262-c050-4397-ba45-e706155e4d76.json\n",
            " Sebastian508_Reichert620_d05c5dc9-d715-4d1c-ac78-0c474ab444fb.json\n",
            " Shalonda324_Krajcik437_20582f40-de29-4452-bf64-157e6d17c613.json\n",
            " Sharan181_Bauch723_3f583fdd-bdd8-4a38-9190-be132e5adc1b.json\n",
            " Shelly431_Eichmann909_eb5f8ed5-5eca-4ef3-88e0-d74f6c4270c7.json\n",
            " Sherell789_Heathcote539_e4effebe-a8b3-4fad-b241-e7f945d1bdc7.json\n",
            " Sherlene302_Balistreri607_2af970df-cd8f-45ad-9d0d-f625e20da333.json\n",
            " Shin962_Bernhard322_1a3a1478-08a3-43cd-aaed-558b393e0742.json\n",
            " Shirely692_Leuschke194_f69ecce5-eb1d-43de-a048-8cb4f33b4d4c.json\n",
            " Shonda871_Connelly992_6aa9f69c-2910-411d-aa2e-b5eaa7c3b1e7.json\n",
            " Shondra529_Moore224_3be82b66-8bfa-4a0d-9133-2b366e4cb88b.json\n",
            " Shu104_Koch169_04b5e404-230b-45e5-ab50-736989230c19.json\n",
            " Sibyl335_Bernier607_6f1c5c00-112e-4bcd-ae37-388e6552e10e.json\n",
            " Sirena316_McClure239_fd79b91b-5016-4053-82d8-5cb52a533380.json\n",
            " Sofia418_Mata817_e026fc6f-e39a-4c89-91bb-e8b81bb46c7c.json\n",
            " Sondra191_Gislason620_c0b387e4-9a58-4a03-9e98-cdd99f839d4f.json\n",
            " Suk497_Hermann103_d8a5ea0e-e2af-4ac2-b9b7-a8ff4c828ab0.json\n",
            " Tabetha269_Legros616_2d49dda8-fef8-492d-aa8e-0e9d382c1f1d.json\n",
            " Tambra47_Lang846_ae6b9280-f98d-455b-87fa-cc576ab01d2d.json\n",
            " Tamekia382_Larson43_80cc0c70-806c-4f8b-9b19-09fc0d40ea43.json\n",
            " Taren286_Zulauf375_ba58d4a4-72fd-41e1-afda-cead75410658.json\n",
            " Terrilyn343_Barrows492_8f66ad1f-9767-41ed-8de8-a9a8da99ad3c.json\n",
            " Tiny880_Legros616_a0c65a8f-ef0a-44bc-919b-7288d1e443f1.json\n",
            " Tonisha838_Steuber698_a105f929-1af0-41e8-80b2-28239c56c519.json\n",
            " Tory770_DuBuque211_42627ef0-ea02-4323-8059-c8dfb6125314.json\n",
            " Tula326_Ward668_e74a3332-2b54-4806-b8fb-d750005cefdd.json\n",
            " Verlene883_Lang846_e10ec25a-1a5c-4b60-9a2d-110f276c25ee.json\n",
            " Veronique514_Koepp521_874cbeae-3145-40a1-940a-b5fed8a60f99.json\n",
            " Vivian245_Dach178_37fd5091-034d-40d1-9d85-252c8b399c13.json\n",
            " Wava789_Corwin846_1e208b6b-77f1-4808-a32b-9f9caf1ec334.json\n",
            " Xenia801_Adams676_ccef190b-3282-47a3-8a38-be111c4ab299.json\n",
            " Yael855_Stroman228_6fa5f169-73e1-4921-bf34-4bd08f350e88.json\n",
            " Yasmin241_Maggio310_1a1a8552-2654-46c0-9f26-f92f7010e923.json\n",
            " Yetta429_Dibbert990_ffd2246e-31c3-4cd3-99ed-62328029fa0d.json\n",
            " Ying817_Cole117_2317abf3-9bee-481e-82c3-524456d1ec2b.json\n"
          ]
        }
      ]
    },
    {
      "cell_type": "code",
      "source": [
        "def flatten_dataframe(df):\n",
        "    for column in df.columns:\n",
        "        if df[column].apply(lambda x: isinstance(x, (list, dict))).any():\n",
        "            # Normalize the nested column\n",
        "            normalized_df = pd.json_normalize(df[column].explode().dropna().tolist(), sep='_')\n",
        "            normalized_df.columns = [f\"{column}_{sub_col}\" for sub_col in normalized_df.columns]\n",
        "            # Drop the original nested column and join the normalized columns\n",
        "            df = df.drop(columns=[column]).join(normalized_df)\n",
        "    return df"
      ],
      "metadata": {
        "id": "qTAtcRbgcj2D"
      },
      "execution_count": null,
      "outputs": []
    },
    {
      "cell_type": "code",
      "source": [
        "patient_files = []\n",
        "patient_data = {}\n",
        "patient_names = []"
      ],
      "metadata": {
        "id": "q7Z53J8cjiRY"
      },
      "execution_count": null,
      "outputs": []
    },
    {
      "cell_type": "code",
      "source": [
        "import json\n",
        "from collections import defaultdict\n",
        "import pandas as pd\n",
        "\n",
        "for patient_file in patient_files:\n",
        "  patient_name = patient_file.split('/')[-1].split('.')[0]\n",
        "  patient_name = '_'.join(patient_name.split('_')[:2])\n",
        "  print(patient_name)\n",
        "  patient_names.append(patient_name)\n",
        "\n",
        "  patient = {}\n",
        "  #Load patient file\n",
        "  with open(patient_file) as f:\n",
        "    data = json.load(f)\n",
        "\n",
        "  # Extract the entries\n",
        "  entries = data.get('entry', [])\n",
        "\n",
        "  # Group by resourceType\n",
        "  resource_dict = {}\n",
        "  for entry in entries:\n",
        "    resource = entry.get('resource', {})\n",
        "    resource_type = resource.get('resourceType', 'Unknown')\n",
        "    if resource_type not in resource_dict:\n",
        "        resource_dict[resource_type] = []\n",
        "    resource_dict[resource_type].append(resource)\n",
        "\n",
        "  for resource_type, resources in resource_dict.items():\n",
        "    # Normalize the entire resource dictionary and separate nested tags\n",
        "    df = pd.json_normalize(resources, sep='_')\n",
        "\n",
        "    # Flatten the nested columns\n",
        "    df = flatten_dataframe(df)\n",
        "\n",
        "    # Filter out inactive patient information\n",
        "    #if 'status' in df.columns:\n",
        "      #print(df['status'].unique())\n",
        "        #df = df[(df['status'] == 'active') | (df['status'] == 'current') | (df['status'] == 'final') | (df['status'] == 'finished') | (df['status'] == 'completed')]\n",
        "\n",
        "    if 'id' in df.columns:\n",
        "        df = df.drop(columns=['id'])\n",
        "\n",
        "    columns_to_drop = [col for col in df.columns if any(substring in col for substring in ['reference', 'system', 'telecom', 'identifier', 'Identifier', 'uid', 'Address', 'address'])]\n",
        "    df = df.drop(columns=columns_to_drop)\n",
        "\n",
        "    df = flatten_dataframe(df) #handle second layer of nesting\n",
        "\n",
        "    patient[resource_type] = df\n",
        "\n",
        "  patient_data[patient_name] = patient"
      ],
      "metadata": {
        "id": "V5QG9Ht_4S64"
      },
      "execution_count": null,
      "outputs": []
    },
    {
      "cell_type": "markdown",
      "source": [
        "### **Part 1:** Query LLM with Full Patient Record and Full Clinical Trial Data\n",
        "\n",
        "### **Part 2:** Prompt LLM to Create a Patient Summary from the Full Patient Record\n",
        "\n",
        "### **Part 3:** Query LLM with Patient Summary and Full Clinical Trial Data"
      ],
      "metadata": {
        "id": "GvCqL92N9EMD"
      }
    },
    {
      "cell_type": "code",
      "source": [
        "llm_responses = {}"
      ],
      "metadata": {
        "id": "qZZ1f4O90Fn4"
      },
      "execution_count": null,
      "outputs": []
    },
    {
      "cell_type": "code",
      "source": [
        "import os\n",
        "from langchain_openai import ChatOpenAI\n",
        "\n",
        "os.environ[\"OPENAI_API_KEY\"] = 'sk-proj-bbcCqgJsIPOhjmiRfNdyT3BlbkFJuDf9IePweh97i2lYZkTl' # API Key from Jieming\n",
        "\n",
        "#model\n",
        "model = \"gpt-4-turbo\" # most powerful gpt model\n",
        "llm = ChatOpenAI(temperature=0.1, model=model)"
      ],
      "metadata": {
        "id": "P-eCyerOvtxo"
      },
      "execution_count": null,
      "outputs": []
    },
    {
      "cell_type": "code",
      "source": [
        "from datetime import date\n",
        "today_date = date.today()\n",
        "\n",
        "for patient in patient_names:\n",
        "  print(patient)\n",
        "\n",
        "  responses = {}\n",
        "\n",
        "  # Trial 1: Query LLM with Full Patient Data and Full Clinical Trial Data\n",
        "  patient_df = patient_data[patient]\n",
        "\n",
        "  query1 =\n",
        "\n",
        "  response1 = llm.invoke(query)\n",
        "\n",
        "  responses['Full+Full'] = response1.content\n",
        "\n",
        "  # Trial 2: Query LLM to Write a Patient Summary\n",
        "  query2 =\n",
        "\n",
        "  response2 = llm.invoke(query)\n",
        "\n",
        "  responses['Patient_Summary'] = response2.content\n",
        "\n",
        "  # Trial 3: Query LLM with Patient Summary and and Full Clinical Trial Data\n",
        "  query3 =\n",
        "\n",
        "  response3 = llm.invoke(query)\n",
        "\n",
        "  responses['Summary+Full'] = response3.content\n",
        "\n",
        "  llm_responses[patient] = responses"
      ],
      "metadata": {
        "id": "Ss07QqGRQEKG"
      },
      "execution_count": null,
      "outputs": []
    },
    {
      "cell_type": "markdown",
      "source": [
        "### **Part 4:** Query RAG-Enabled LLM with Patient Summary and Text-Based Clinical Trial Data"
      ],
      "metadata": {
        "id": "IRDzBADITX_F"
      }
    },
    {
      "cell_type": "code",
      "source": [
        "from openai import OpenAI\n",
        "\n",
        "client = OpenAI(\n",
        "  api_key=os.environ[\"OPENAI_API_KEY\"],  # this is also the default, it can be omitted\n",
        ")\n",
        "\n",
        "clinical_trial_data['text'] = 'The trial with NCT ID number ' + clinical_trial_data['NCT ID'] + ' has the following eligbility criteria, for inclusion and exclusion ' + clinical_trial_data['Eligibility']\n",
        "clinical_trial_data.head()['text']"
      ],
      "metadata": {
        "id": "eLCW5EMtQD_Y"
      },
      "execution_count": null,
      "outputs": []
    },
    {
      "cell_type": "code",
      "source": [
        "import openai\n",
        "import tiktoken\n",
        "from scipy import spatial\n",
        "import pandas as pd\n",
        "import ast\n",
        "import openai\n",
        "\n",
        "# Function to get text embeddings\n",
        "def text_embedding(text):\n",
        "    response = client.embeddings.create(model=\"text-embedding-ada-002\", input=text)\n",
        "    return response.data[0].embedding\n",
        "\n",
        "# Apply the text_embedding function to the 'text' column\n",
        "clinical_trial_data['embedding'] = clinical_trial_data['text'].apply(lambda x: text_embedding(x))\n",
        "\n",
        "clinical_trial_data = clinical_trial_data.assign(embedding = (clinical_trial_data[\"text\"].apply(lambda x : text_embedding(x))))\n",
        "#print(clinical_trial_data.head())"
      ],
      "metadata": {
        "id": "R2HIGvloQDxl"
      },
      "execution_count": null,
      "outputs": []
    },
    {
      "cell_type": "code",
      "source": [
        "def strings_ranked_by_relatedness(\n",
        "    query: str,\n",
        "    df: pd.DataFrame,\n",
        "    relatedness_fn = lambda x, y: 1 - spatial.distance.cosine(x, y),\n",
        "    top_n: int = 100\n",
        "):\n",
        "\n",
        "    EMBEDDING_MODEL = \"text-embedding-ada-002\"\n",
        "    query_embedding_response = openai.embeddings.create(\n",
        "        model = EMBEDDING_MODEL,\n",
        "        input = query,\n",
        "    )\n",
        "    query_embedding = query_embedding_response.data[0].embedding\n",
        "    strings_and_relatednesses = [\n",
        "        (row[\"text\"], relatedness_fn(query_embedding, row[\"embedding\"]))\n",
        "        for i, row in df.iterrows()\n",
        "    ]\n",
        "    strings_and_relatednesses.sort(key = lambda x: x[1], reverse = True)\n",
        "    strings, relatednesses = zip(*strings_and_relatednesses)\n",
        "    return strings[:top_n], relatednesses[:top_n]\n",
        "\n",
        "strings, relatednesses = strings_ranked_by_relatedness(\"Clinical Trials\", df, top_n = 3)\n",
        "for string, relatedness in zip(strings, relatednesses):\n",
        "    print(f\"{relatedness = :.3f}\")\n",
        "    display(string)\n",
        "\n",
        "def num_tokens(text: str) -> int:\n",
        "    encoding = tiktoken.encoding_for_model(\"gpt-4-turbo\")\n",
        "    return len(encoding.encode(text))\n",
        "\n",
        "def query_message(\n",
        "    query: str,\n",
        "    df: pd.DataFrame,\n",
        "    model: str,\n",
        "    token_budget: int\n",
        ") -> str:\n",
        "    strings, relatednesses = strings_ranked_by_relatedness(query, df)\n",
        "    introduction = 'Use the below content related to clinical trials to answer the subsequent question. If the answer cannot be found in the articles, write \"I could not find an answer.\"'\n",
        "    question = f\"\\n\\nQuestion: {query}\"\n",
        "    message = introduction\n",
        "    for string in strings:\n",
        "        next_row = f'\\n\\nClinical trial section:\\n\"\"\"\\n{string}\\n\"\"\"'\n",
        "        if (\n",
        "            num_tokens(message + next_row + question)\n",
        "            > token_budget\n",
        "        ):\n",
        "            break\n",
        "        else:\n",
        "            message += next_row\n",
        "    return message + question\n",
        "\n",
        "def ask(\n",
        "    query: str,\n",
        "    df: pd.DataFrame = clinical_trial_data,\n",
        "    model: str = \"gpt-4-turbo\",\n",
        "    token_budget: int = 25000,\n",
        "    print_message: bool = False,\n",
        ") -> str:\n",
        "    message = query_message(query, df, model=model, token_budget=token_budget)\n",
        "    if print_message:\n",
        "        print(message)\n",
        "    messages = [\n",
        "        {\"role\": \"system\", \"content\": \"You match patients to clinical trials that they are eligible for.\"},\n",
        "        {\"role\": \"user\", \"content\": message},\n",
        "    ]\n",
        "    response = openai.chat.completions.create(\n",
        "        model = model,\n",
        "        messages = messages,\n",
        "        temperature = 0.1\n",
        "    )\n",
        "    response_message = response.choices[0].message.content\n",
        "    return response_message"
      ],
      "metadata": {
        "id": "2BheDcmnSEDY"
      },
      "execution_count": null,
      "outputs": []
    },
    {
      "cell_type": "code",
      "source": [
        "for patient in patient_names:\n",
        "\n",
        "  patient_summary = llm_responses[patient]['Patient_Summary']\n",
        "\n",
        "  # Trial 4: Query LLM to Write a Patient Summary\n",
        "  query4 = \"The following is a patient diagnosed with a type of breast cancer: \" + str(patient_summary) + \"Identify up to 2 clinical trials that the patient is eligible for using the eligibility criteria and explain with four reasons, why the patient is eligible for the trial, and show eligibility criteria (inclusion and exclusion) for each trial.\"\n",
        "\n",
        "  response4 = ask(query4)\n",
        "\n",
        "  llm_responses[patient]['Summary+RAG'] = response4.content"
      ],
      "metadata": {
        "id": "PtyDaqTcSD5z"
      },
      "execution_count": null,
      "outputs": []
    },
    {
      "cell_type": "markdown",
      "source": [
        "### **Save Files**"
      ],
      "metadata": {
        "id": "BFTifGe0Ug-y"
      }
    },
    {
      "cell_type": "code",
      "source": [
        "llm_responses_df = pd.DataFrame.from_dict(llm_responses, orient='index')\n",
        "llm_responses_df.to_csv('llm_responses.csv')"
      ],
      "metadata": {
        "id": "EAvrzz4mSDvN"
      },
      "execution_count": null,
      "outputs": []
    },
    {
      "cell_type": "code",
      "source": [],
      "metadata": {
        "id": "EDjEwYCcTiDQ"
      },
      "execution_count": null,
      "outputs": []
    },
    {
      "cell_type": "code",
      "source": [],
      "metadata": {
        "id": "9qlOftC_TiJz"
      },
      "execution_count": null,
      "outputs": []
    },
    {
      "cell_type": "code",
      "source": [],
      "metadata": {
        "id": "NJRDnUjATiOd"
      },
      "execution_count": null,
      "outputs": []
    },
    {
      "cell_type": "code",
      "source": [],
      "metadata": {
        "id": "Tt6AA5tETiQ-"
      },
      "execution_count": null,
      "outputs": []
    },
    {
      "cell_type": "code",
      "source": [],
      "metadata": {
        "id": "L8tcSs1CTiVQ"
      },
      "execution_count": null,
      "outputs": []
    },
    {
      "cell_type": "code",
      "source": [],
      "metadata": {
        "id": "wrgTgYhLTiYE"
      },
      "execution_count": null,
      "outputs": []
    },
    {
      "cell_type": "code",
      "source": [],
      "metadata": {
        "id": "QNWpvlmdTicr"
      },
      "execution_count": null,
      "outputs": []
    },
    {
      "cell_type": "code",
      "source": [],
      "metadata": {
        "id": "YaWzMMywTigc"
      },
      "execution_count": null,
      "outputs": []
    },
    {
      "cell_type": "code",
      "source": [
        "query = f\"\"\"You are a doctor seeing a patient diagnosed with a type of breast cancer with the following health record. {df}. Identify at most 10 clinical trials that this patient is eligible for based on the eligibility criteria from the following data: {}'\n",
        "\"\"\""
      ],
      "metadata": {
        "id": "ZM1PAt4N0TUJ"
      },
      "execution_count": null,
      "outputs": []
    },
    {
      "cell_type": "code",
      "source": [
        "\n",
        "\n",
        "query = f\"\"\"You are a doctor seeing a patient diagnosed with a type of breast cancer with the following health record. Write a summary for this patient's cancer prognosis. {patient}'\n",
        "\"\"\"\n",
        "\n",
        "#print(query)\n",
        "\n",
        "response = llm.invoke(query)"
      ],
      "metadata": {
        "colab": {
          "base_uri": "https://localhost:8080/"
        },
        "id": "Ri9e5l2s_qyt",
        "outputId": "718f6827-50dd-4114-f3e6-a46f89549278"
      },
      "execution_count": null,
      "outputs": [
        {
          "output_type": "execute_result",
          "data": {
            "text/plain": [
              "AIMessage(content=\"Mrs. Allegra202 Heller342, born on April 23, 1928, is a 96-year-old female patient diagnosed with malignant neoplasm of the breast (breast cancer). Her condition is currently active, and she has been under continuous care and monitoring for her condition.\\n\\n**Cancer Diagnosis and Treatment:**\\n- **Diagnosis:** Malignant neoplasm of the breast (disorder)\\n- **Clinical Status:** Active\\n- **Medications:**\\n  - **Tamoxifen citrate 10 MG Oral Tablet:** Used to treat breast cancer that has spread to other parts of the body (metastatic breast cancer), to treat breast cancer in certain patients after surgery and radiation therapy, and to reduce the chances of breast cancer in high-risk patients.\\n  - **Verzenio 100 MG Oral Tablet:** Used in the treatment of HR-positive, HER2-negative breast cancer that has progressed after treatment with hormone therapy.\\n\\n**Care Management:**\\n- Mrs. Heller has been part of several care plans aimed at managing her condition and improving her quality of life. These include routine antenatal care, respiratory therapy, and lifestyle education regarding hypertension. Her care has been managed by a team at Morton Hospital, with interventions such as antenatal education and dietary approaches to stop hypertension.\\n\\n**Imaging Studies:**\\n- Mrs. Heller has undergone several imaging studies, including digital radiography of the ankle, wrist, clavicle, and upper arm, which are part of her comprehensive medical evaluations over the years.\\n\\n**Additional Health Information:**\\n- Mrs. Heller has a history of various other conditions and treatments, including coronary heart disease and myocardial infarction, for which she has a coronary artery stent implanted. Her care has been comprehensive, involving multiple healthcare professionals and facilities.\\n\\n**Prognosis:**\\n- The prognosis of breast cancer depends significantly on the stage at diagnosis, response to treatment, and overall health condition of the patient. Given her age and the active status of her condition, ongoing monitoring and management are crucial to address any progression or complications.\\n\\nMrs. Heller's treatment and monitoring are reflective of a multidisciplinary approach to managing advanced breast cancer, with an emphasis on both medical and supportive care to ensure the best possible quality of life.\", response_metadata={'token_usage': {'completion_tokens': 462, 'prompt_tokens': 24439, 'total_tokens': 24901}, 'model_name': 'gpt-4-turbo-2024-04-09', 'system_fingerprint': 'fp_0993c4a4c0', 'finish_reason': 'stop', 'logprobs': None}, id='run-2082806d-6f2c-4946-b7c9-c169ac864881-0', usage_metadata={'input_tokens': 24439, 'output_tokens': 462, 'total_tokens': 24901})"
            ]
          },
          "metadata": {},
          "execution_count": 35
        }
      ]
    },
    {
      "cell_type": "code",
      "source": [
        "query = f\"\"\"You are a doctor seeing a patient diagnosed with a type of breast cancer with the following health record. Write a summary for this patient's cancer prognosis. Include the patient's age as of today's date {today_date}. Include the patient's comorbidities, treatments, and cancer staging information. {patient}'\n",
        "\"\"\"\n",
        "\n",
        "#print(query)\n",
        "\n",
        "llm.invoke(query)\n"
      ],
      "metadata": {
        "colab": {
          "base_uri": "https://localhost:8080/"
        },
        "id": "bGhku4WUJGfQ",
        "outputId": "036319aa-633c-45f9-a0e2-e8049775782c"
      },
      "execution_count": null,
      "outputs": [
        {
          "output_type": "execute_result",
          "data": {
            "text/plain": [
              "AIMessage(content=\"Mrs. Allegra202 Heller342, born on April 23, 1928, is a 96-year-old female patient diagnosed with breast cancer. As of today, July 29, 2024, she has been under the care of healthcare providers at Morton Hospital and PCP187044, with Dr. Sharilyn202 Simonis280 and Dr. Onita767 Osinski784 as her primary care physicians.\\n\\n### Comorbidities:\\nMrs. Heller has a history of several comorbid conditions including:\\n- Essential hypertension (active)\\n- Hyperlipidemia (active)\\n- Osteoporosis (active)\\n- History of myocardial infarction (active)\\n- Coronary heart disease (active)\\n\\n### Cancer Details:\\n- Type: Malignant neoplasm of breast (active)\\n- Clinical Stage: Stage 2A (qualifier value) as per the latest staging assessment.\\n\\n### Treatments:\\nMrs. Heller has been prescribed various medications for her comorbid conditions and cancer treatment:\\n- Tamoxifen citrate 10 MG Oral Tablet\\n- Verzenio 100 MG Oral Tablet\\n- Aspirin 81 MG Oral Tablet\\n- Simvastatin 20 MG Oral Tablet\\n- Hydrochlorothiazide 25 MG Oral Tablet\\n- Nitroglycerin 400 MCG/ACTUAT Mucosal Spray\\n- AmLODIPine besylate 5 MG Oral Tablet\\n\\n### Imaging and Procedures:\\nShe has undergone several imaging studies relevant to her conditions, including digital radiography of the ankle, wrist, clavicle, and upper arm. Additionally, she has had a coronary artery stent implanted, which is currently active.\\n\\n### Care Management:\\nMrs. Heller is actively involved in various care plans tailored to manage her hypertension and breast cancer, including lifestyle education and routine antenatal care. Her care team at Morton Hospital has been actively managing her treatment and follow-up care.\\n\\n### Prognosis:\\nGiven her age and the active management of her comorbid conditions alongside her breast cancer treatment, the focus remains on maintaining quality of life and managing symptoms. Continuous monitoring and adjustments to her treatment plan are essential to address any progression of her conditions or adverse effects from her medications.\\n\\nIn summary, Mrs. Heller's health management is complex due to her age, multiple chronic conditions, and breast cancer diagnosis. Her healthcare team is focused on a comprehensive and multidisciplinary approach to provide the best possible outcomes.\", response_metadata={'token_usage': {'completion_tokens': 501, 'prompt_tokens': 24434, 'total_tokens': 24935}, 'model_name': 'gpt-4-turbo-2024-04-09', 'system_fingerprint': 'fp_0993c4a4c0', 'finish_reason': 'stop', 'logprobs': None}, id='run-0fe1cd2f-5502-4843-94e1-25e544544cbb-0', usage_metadata={'input_tokens': 24434, 'output_tokens': 501, 'total_tokens': 24935})"
            ]
          },
          "metadata": {},
          "execution_count": 37
        }
      ]
    },
    {
      "cell_type": "code",
      "source": [
        "patient_summary = \"Mrs. Allegra202 Heller342, born on April 23, 1928, is a 96-year-old female patient diagnosed with breast cancer. As of today, July 29, 2024, she has been under the care of healthcare providers at Morton Hospital and PCP187044, with Dr. Sharilyn202 Simonis280 and Dr. Onita767 Osinski784 as her primary care physicians.\\n\\n### Comorbidities:\\nMrs. Heller has a history of several comorbid conditions including:\\n- Essential hypertension (active)\\n- Hyperlipidemia (active)\\n- Osteoporosis (active)\\n- History of myocardial infarction (active)\\n- Coronary heart disease (active)\\n\\n### Cancer Details:\\n- Type: Malignant neoplasm of breast (active)\\n- Clinical Stage: Stage 2A (qualifier value) as per the latest staging assessment.\\n\\n### Treatments:\\nMrs. Heller has been prescribed various medications for her comorbid conditions and cancer treatment:\\n- Tamoxifen citrate 10 MG Oral Tablet\\n- Verzenio 100 MG Oral Tablet\\n- Aspirin 81 MG Oral Tablet\\n- Simvastatin 20 MG Oral Tablet\\n- Hydrochlorothiazide 25 MG Oral Tablet\\n- Nitroglycerin 400 MCG/ACTUAT Mucosal Spray\\n- AmLODIPine besylate 5 MG Oral Tablet\\n\\n### Imaging and Procedures:\\nShe has undergone several imaging studies relevant to her conditions, including digital radiography of the ankle, wrist, clavicle, and upper arm. Additionally, she has had a coronary artery stent implanted, which is currently active.\\n\\n### Care Management:\\nMrs. Heller is actively involved in various care plans tailored to manage her hypertension and breast cancer, including lifestyle education and routine antenatal care. Her care team at Morton Hospital has been actively managing her treatment and follow-up care.\\n\\n### Prognosis:\\nGiven her age and the active management of her comorbid conditions alongside her breast cancer treatment, the focus remains on maintaining quality of life and managing symptoms. Continuous monitoring and adjustments to her treatment plan are essential to address any progression of her conditions or adverse effects from her medications.\\n\\nIn summary, Mrs. Heller's health management is complex due to her age, multiple chronic conditions, and breast cancer diagnosis. Her healthcare team is focused on a comprehensive and multidisciplinary approach to provide the best possible outcomes.\""
      ],
      "metadata": {
        "id": "uqFi3hjXKlQw"
      },
      "execution_count": null,
      "outputs": []
    },
    {
      "cell_type": "code",
      "source": [],
      "metadata": {
        "colab": {
          "base_uri": "https://localhost:8080/"
        },
        "id": "q3pLV_YIxLkg",
        "outputId": "5d9dcb6a-1e3b-4c02-8cfb-c0bb9aaddf95"
      },
      "execution_count": null,
      "outputs": [
        {
          "output_type": "stream",
          "name": "stdout",
          "text": [
            "         NCT ID  Acronym Overall Status  Start Date  \\\n",
            "1   NCT05483491  Unknown     RECRUITING  2022-09-26   \n",
            "2   NCT06378294    MACMA     RECRUITING  2021-04-20   \n",
            "4   NCT03390894  Unknown     RECRUITING  2018-01-18   \n",
            "12  NCT06135194  Unknown     RECRUITING  2021-04-01   \n",
            "15  NCT05766891  Unknown     RECRUITING  2023-10-12   \n",
            "\n",
            "                                           Conditions  \\\n",
            "1   Gastric Cancer, Breast Cancer, Cervical Cancer...   \n",
            "2                                       Breast Cancer   \n",
            "4                 Invasive Breast Cancer Early Stages   \n",
            "12                                      Breast Cancer   \n",
            "15                                      Breast Cancer   \n",
            "\n",
            "                       Interventions  \\\n",
            "1   KK-LC-1 TCR-T cells, Aldesleukin   \n",
            "2                         Mastectomy   \n",
            "4            No interventions listed   \n",
            "12                             T-DXd   \n",
            "15         Group 1, Group 2, Group 3   \n",
            "\n",
            "                                            Locations Primary Completion Date  \\\n",
            "1   New Brunswick - United States, New Brunswick -...              2026-09-01   \n",
            "2   Ferrol - Spain, Santiago De Compostela - Spain...              2024-12-31   \n",
            "4   Avilés - Spain, Pamplona - Spain, La Laguna - ...                 2047-01   \n",
            "12                   Beijing - China, Beijing - China              2023-12-30   \n",
            "15                            Houston - United States              2026-12-31   \n",
            "\n",
            "   Study First Post Date Last Update Post Date      Study Type  \\\n",
            "1             2022-08-02            2024-07-12  INTERVENTIONAL   \n",
            "2             2024-04-22            2024-04-25   OBSERVATIONAL   \n",
            "4             2018-01-04            2024-04-12   OBSERVATIONAL   \n",
            "12            2023-11-18            2023-11-18   OBSERVATIONAL   \n",
            "15            2023-03-13            2024-04-26  INTERVENTIONAL   \n",
            "\n",
            "            Phases                                        Eligibility  \\\n",
            "1           PHASE1  1. Inclusion Criteria: Subjects must meet all ...   \n",
            "2    Not Available  Inclusion Criteria:\\n\\n* Patients with T1-2 pr...   \n",
            "4    Not Available  Inclusion Criteria:\\n\\n* Patients included in ...   \n",
            "12   Not Available  Inclusion Criteria:\\n\\n(1) Women ≥18 years of ...   \n",
            "15  PHASE2, PHASE3  Inclusion Criteria:\\n\\n1. Men and Women;\\n2. A...   \n",
            "\n",
            "                                                 text  \\\n",
            "1   The trial with NCT ID number NCT05483491 has t...   \n",
            "2   The trial with NCT ID number NCT06378294 has t...   \n",
            "4   The trial with NCT ID number NCT03390894 has t...   \n",
            "12  The trial with NCT ID number NCT06135194 has t...   \n",
            "15  The trial with NCT ID number NCT05766891 has t...   \n",
            "\n",
            "                                            embedding  \n",
            "1   [-0.023087773472070694, 0.008257132023572922, ...  \n",
            "2   [-0.021784428507089615, -0.005023564212024212,...  \n",
            "4   [-0.010269765742123127, -0.0055458093993365765...  \n",
            "12  [-0.037419483065605164, -0.005773445591330528,...  \n",
            "15  [-0.01665961556136608, -0.016371434554457664, ...  \n"
          ]
        }
      ]
    },
    {
      "cell_type": "code",
      "source": [],
      "metadata": {
        "colab": {
          "base_uri": "https://localhost:8080/",
          "height": 309
        },
        "id": "PvzMm_PDkG5f",
        "outputId": "5933da97-e0e3-4e1b-fa83-a6094e89fd00"
      },
      "execution_count": null,
      "outputs": [
        {
          "output_type": "stream",
          "name": "stdout",
          "text": [
            "relatedness = 0.817\n"
          ]
        },
        {
          "output_type": "display_data",
          "data": {
            "text/plain": [
              "'The trial with NCT ID number NCT05044689 has the following eligbility criteria, for inclusion and exclusion Case Group - Patients must have histologically confirmed diagnosis of colorectal or breast cancer.\\n\\nControl Group - Patients must not have a diagnosis of cancer.'"
            ],
            "application/vnd.google.colaboratory.intrinsic+json": {
              "type": "string"
            }
          },
          "metadata": {}
        },
        {
          "output_type": "stream",
          "name": "stdout",
          "text": [
            "relatedness = 0.816\n"
          ]
        },
        {
          "output_type": "display_data",
          "data": {
            "text/plain": [
              "'The trial with NCT ID number NCT05406531 has the following eligbility criteria, for inclusion and exclusion Inclusion Criteria:\\n\\n* Women over the age of 18\\n* Breast cancer patients at the end of adjuvant treatment\\n\\nExclusion Criteria:\\n\\n* Patients without a mobil device (\"smart\" mobile phone)\\n* Patients without internet access\\n* Patients with diagnosed: psychotic disorder; severe depressive episode; panic disorder; bipolar disorder; personality disorder associated with uncontrollable mood swings; PTSD; suicidal attempts and active suicidal ideation; disability pension due to non-specific mental or somatic problems; hospitalization due to a psychiatric disorder in the past year'"
            ],
            "application/vnd.google.colaboratory.intrinsic+json": {
              "type": "string"
            }
          },
          "metadata": {}
        },
        {
          "output_type": "stream",
          "name": "stdout",
          "text": [
            "relatedness = 0.816\n"
          ]
        },
        {
          "output_type": "display_data",
          "data": {
            "text/plain": [
              "'The trial with NCT ID number NCT05704842 has the following eligbility criteria, for inclusion and exclusion Inclusion Criteria:\\n\\n* Women with curative-intent breast cancer who plan to undergo at least 4 cycles of chemotherapy.\\n* Age \\\\> 18 years\\n* ECOG performance score \\\\< 3\\n* English-speaking\\n* with sufficient vision/hearing or family support\\n* Coronary artery disease, if cleared by cardiologist\\n* Subject must have smart phone, computer or tablet.\\n* Willingness to be randomized\\n\\nExclusion Criteria:\\n\\n* Medical or psychiatric conditions (beyond those related to breast cancer and its treatment) that would impair our ability to test study hypotheses (psychotic disorders, dementia, inability to give informed consent or follow instructions).\\n* Patients with overt evidence of a psychiatric disorder.\\n* Coronary artery disease, not cleared by cardiologist.\\n* Contraindication to exercise.\\n* Chronic fatigue syndrome.'"
            ],
            "application/vnd.google.colaboratory.intrinsic+json": {
              "type": "string"
            }
          },
          "metadata": {}
        }
      ]
    },
    {
      "cell_type": "code",
      "source": [],
      "metadata": {
        "id": "FWQCbaIQxcaE"
      },
      "execution_count": null,
      "outputs": []
    },
    {
      "cell_type": "code",
      "source": [
        "print(resp_0)"
      ],
      "metadata": {
        "id": "tNvRDGMUyM1d",
        "colab": {
          "base_uri": "https://localhost:8080/"
        },
        "outputId": "9754aac8-2733-4ffb-a985-3ab506b5876b"
      },
      "execution_count": null,
      "outputs": [
        {
          "output_type": "stream",
          "name": "stdout",
          "text": [
            "Based on the provided information about Mrs. Allegra202 Heller342, there are no clinical trials from the provided list that she would be eligible for. Here are the reasons for her ineligibility:\n",
            "\n",
            "1. **Age and Comorbidities**: Mrs. Heller is 96 years old, which exceeds the typical upper age limit for clinical trial inclusion, which is often capped at 75 or 80 years old in many trials. Additionally, her multiple active comorbid conditions such as essential hypertension, hyperlipidemia, osteoporosis, history of myocardial infarction, and coronary heart disease make her a less suitable candidate for clinical trials that often exclude patients with significant cardiovascular issues or multiple serious health conditions.\n",
            "\n",
            "2. **Current Medications and Treatments**: Mrs. Heller is on a regimen that includes Tamoxifen and Verzenio for breast cancer treatment, alongside medications for her other health conditions. Many clinical trials exclude patients who are already receiving certain types of cancer treatments or have specific drug interactions, particularly trials that are testing new or additional cancer therapies.\n",
            "\n",
            "3. **Cancer Stage and Type**: Mrs. Heller has Stage 2A breast cancer. Many of the clinical trials specified are for patients with different stages of cancer, often more advanced or metastatic stages, or require specific HER2/ER/PR statuses that do not match her condition.\n",
            "\n",
            "4. **General Health and Prognosis Focus**: Given her advanced age and the focus on quality of life and symptom management, the intensity and risk of experimental treatments offered in clinical trials might not align with the care objectives for a patient like Mrs. Heller, whose treatment is geared more towards comfort and managing existing conditions rather than aggressive cancer eradication.\n",
            "\n",
            "Therefore, Mrs. Heller's profile does not match the eligibility criteria for the clinical trials listed, primarily due to her age, existing treatment regimen, stage and type of cancer, and overall health status aimed at maintaining quality of life rather than pursuing experimental therapies.\n"
          ]
        }
      ]
    }
  ]
}